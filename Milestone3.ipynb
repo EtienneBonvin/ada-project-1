{
 "cells": [
  {
   "cell_type": "markdown",
   "metadata": {},
   "source": [
    "# Milestone 3\n",
    "\n",
    "This notebooks summarizes the work done from the Milestone 2 to the end of the project, displaying our results and algorithms.\n",
    "\n",
    "Note that for the sake of cleaness, not all algorithms are written here. Only their results may be displayed, if you want to have a look at the details of their implementation, the .py files are available in this repository."
   ]
  },
  {
   "cell_type": "code",
   "execution_count": 1,
   "metadata": {},
   "outputs": [],
   "source": [
    "import pandas as pd"
   ]
  },
  {
   "cell_type": "markdown",
   "metadata": {},
   "source": [
    "## TF-IDF : what are the specific words of a review talking about the Kindle ?\n",
    "\n",
    "We know from the LDA analysis that the users talk about the Kindle and its technology in their reviews. Now we wish to target those reviews. For this, we need to extract their specific words.\n",
    "\n",
    "In order to achieve this, we will use the TF-IDF method, allowing us to extract words specific to the Kindle reviews and we will keep only the ones which are technology or kindle-related.\n",
    "\n",
    "The code and experiments to extract the words are located in tfidf.py. The recovery of the words was a laborious task, we extracted the 100 most specific words which appears once every $10^6$ reviews, then once every $10^5$ reviews and so on until the words that appear once every $10^3$ reviews. Hence we are not going to display the full detail of this analysis, but rather the results we found."
   ]
  },
  {
   "cell_type": "code",
   "execution_count": 2,
   "metadata": {},
   "outputs": [
    {
     "data": {
      "text/plain": [
       "21"
      ]
     },
     "execution_count": 2,
     "metadata": {},
     "output_type": "execute_result"
    }
   ],
   "source": [
    "# Hardcoded results in a dictionary\n",
    "words = [\"charger\", \"paperwhit\", \"headphone\", \"warranti\", \"e-ink\", \"well-format\",\\\n",
    "         \"recharge\", \"tablet\", \"kindl\", \"ebook\", \"e-read\",\\\n",
    "          \"download\", \"screen\", \"device\", \"easi\", \"complaint\", \"price\", \\\n",
    "          \"disappoint\", \"worth\", \"recommend\", \"hate\"]\n",
    "values = [1.965, 1.940, 1.883, 1.877, 1.777, 1.775, 1.600, 1.587, 1.574, 1.551, 1.535, \\\n",
    "          1.460, 1.437, 1.324, 1.312, 1.307, 1.289, 1.280, 1.260, 1.241, 1.187]\n",
    "df_total = pd.DataFrame({\"Words\" : words, \"TF-IDF values\" : values})\n",
    "len(words)"
   ]
  },
  {
   "cell_type": "markdown",
   "metadata": {},
   "source": [
    "### Let's display the results with some nice colors !\n",
    "\n",
    "We found a nice gradient of colors on http://colorbrewer2.org/#type=sequential&scheme=PuBuGn&n=4 that allows us to display our results in a nice fashion.\n",
    "\n",
    "Then we will display the results on two rows for the sake of readibility."
   ]
  },
  {
   "cell_type": "code",
   "execution_count": 3,
   "metadata": {},
   "outputs": [],
   "source": [
    "def highlighting(s):\n",
    "    e = s[0]\n",
    "    if e < 1.2:\n",
    "        return ['background-color: #d7191c']\n",
    "    elif e < 1.4:\n",
    "        return ['background-color: #fdae61']\n",
    "    elif e < 1.6:\n",
    "        return ['background-color: #ffffbf']\n",
    "    elif e < 1.8:\n",
    "        return ['background-color: #a6d96a']\n",
    "    else:\n",
    "        return ['background-color: #1a9641']"
   ]
  },
  {
   "cell_type": "code",
   "execution_count": 4,
   "metadata": {},
   "outputs": [
    {
     "data": {
      "text/html": [
       "<style  type=\"text/css\" >\n",
       "    #T_affff374_ff8a_11e8_b148_548ca034d556row0_col0 {\n",
       "            background-color:  #1a9641;\n",
       "        }    #T_affff374_ff8a_11e8_b148_548ca034d556row0_col1 {\n",
       "            background-color:  #1a9641;\n",
       "        }    #T_affff374_ff8a_11e8_b148_548ca034d556row0_col2 {\n",
       "            background-color:  #1a9641;\n",
       "        }    #T_affff374_ff8a_11e8_b148_548ca034d556row0_col3 {\n",
       "            background-color:  #1a9641;\n",
       "        }    #T_affff374_ff8a_11e8_b148_548ca034d556row0_col4 {\n",
       "            background-color:  #a6d96a;\n",
       "        }    #T_affff374_ff8a_11e8_b148_548ca034d556row0_col5 {\n",
       "            background-color:  #a6d96a;\n",
       "        }    #T_affff374_ff8a_11e8_b148_548ca034d556row0_col6 {\n",
       "            background-color:  #a6d96a;\n",
       "        }    #T_affff374_ff8a_11e8_b148_548ca034d556row0_col7 {\n",
       "            background-color:  #ffffbf;\n",
       "        }    #T_affff374_ff8a_11e8_b148_548ca034d556row0_col8 {\n",
       "            background-color:  #ffffbf;\n",
       "        }    #T_affff374_ff8a_11e8_b148_548ca034d556row0_col9 {\n",
       "            background-color:  #ffffbf;\n",
       "        }    #T_affff374_ff8a_11e8_b148_548ca034d556row0_col10 {\n",
       "            background-color:  #ffffbf;\n",
       "        }</style>  \n",
       "<table id=\"T_affff374_ff8a_11e8_b148_548ca034d556\" > \n",
       "<thead>    <tr> \n",
       "        <th class=\"blank level0\" ></th> \n",
       "        <th class=\"col_heading level0 col0\" >charger</th> \n",
       "        <th class=\"col_heading level0 col1\" >paperwhit</th> \n",
       "        <th class=\"col_heading level0 col2\" >headphone</th> \n",
       "        <th class=\"col_heading level0 col3\" >warranti</th> \n",
       "        <th class=\"col_heading level0 col4\" >e-ink</th> \n",
       "        <th class=\"col_heading level0 col5\" >well-format</th> \n",
       "        <th class=\"col_heading level0 col6\" >recharge</th> \n",
       "        <th class=\"col_heading level0 col7\" >tablet</th> \n",
       "        <th class=\"col_heading level0 col8\" >kindl</th> \n",
       "        <th class=\"col_heading level0 col9\" >ebook</th> \n",
       "        <th class=\"col_heading level0 col10\" >e-read</th> \n",
       "    </tr></thead> \n",
       "<tbody>    <tr> \n",
       "        <th id=\"T_affff374_ff8a_11e8_b148_548ca034d556level0_row0\" class=\"row_heading level0 row0\" >0</th> \n",
       "        <td id=\"T_affff374_ff8a_11e8_b148_548ca034d556row0_col0\" class=\"data row0 col0\" >1.965</td> \n",
       "        <td id=\"T_affff374_ff8a_11e8_b148_548ca034d556row0_col1\" class=\"data row0 col1\" >1.94</td> \n",
       "        <td id=\"T_affff374_ff8a_11e8_b148_548ca034d556row0_col2\" class=\"data row0 col2\" >1.883</td> \n",
       "        <td id=\"T_affff374_ff8a_11e8_b148_548ca034d556row0_col3\" class=\"data row0 col3\" >1.877</td> \n",
       "        <td id=\"T_affff374_ff8a_11e8_b148_548ca034d556row0_col4\" class=\"data row0 col4\" >1.777</td> \n",
       "        <td id=\"T_affff374_ff8a_11e8_b148_548ca034d556row0_col5\" class=\"data row0 col5\" >1.775</td> \n",
       "        <td id=\"T_affff374_ff8a_11e8_b148_548ca034d556row0_col6\" class=\"data row0 col6\" >1.6</td> \n",
       "        <td id=\"T_affff374_ff8a_11e8_b148_548ca034d556row0_col7\" class=\"data row0 col7\" >1.587</td> \n",
       "        <td id=\"T_affff374_ff8a_11e8_b148_548ca034d556row0_col8\" class=\"data row0 col8\" >1.574</td> \n",
       "        <td id=\"T_affff374_ff8a_11e8_b148_548ca034d556row0_col9\" class=\"data row0 col9\" >1.551</td> \n",
       "        <td id=\"T_affff374_ff8a_11e8_b148_548ca034d556row0_col10\" class=\"data row0 col10\" >1.535</td> \n",
       "    </tr></tbody> \n",
       "</table> "
      ],
      "text/plain": [
       "<pandas.io.formats.style.Styler at 0x7f76cf8a62b0>"
      ]
     },
     "execution_count": 4,
     "metadata": {},
     "output_type": "execute_result"
    }
   ],
   "source": [
    "dict_ = {}\n",
    "for i in range(11):\n",
    "    dict_[words[i]] = [values[i]]\n",
    "df_dict = pd.DataFrame(dict_)\n",
    "df_dict.style.apply(highlighting)"
   ]
  },
  {
   "cell_type": "code",
   "execution_count": 5,
   "metadata": {},
   "outputs": [
    {
     "data": {
      "text/html": [
       "<style  type=\"text/css\" >\n",
       "    #T_affff375_ff8a_11e8_b148_548ca034d556row0_col0 {\n",
       "            background-color:  #ffffbf;\n",
       "        }    #T_affff375_ff8a_11e8_b148_548ca034d556row0_col1 {\n",
       "            background-color:  #ffffbf;\n",
       "        }    #T_affff375_ff8a_11e8_b148_548ca034d556row0_col2 {\n",
       "            background-color:  #fdae61;\n",
       "        }    #T_affff375_ff8a_11e8_b148_548ca034d556row0_col3 {\n",
       "            background-color:  #fdae61;\n",
       "        }    #T_affff375_ff8a_11e8_b148_548ca034d556row0_col4 {\n",
       "            background-color:  #fdae61;\n",
       "        }    #T_affff375_ff8a_11e8_b148_548ca034d556row0_col5 {\n",
       "            background-color:  #fdae61;\n",
       "        }    #T_affff375_ff8a_11e8_b148_548ca034d556row0_col6 {\n",
       "            background-color:  #fdae61;\n",
       "        }    #T_affff375_ff8a_11e8_b148_548ca034d556row0_col7 {\n",
       "            background-color:  #fdae61;\n",
       "        }    #T_affff375_ff8a_11e8_b148_548ca034d556row0_col8 {\n",
       "            background-color:  #fdae61;\n",
       "        }    #T_affff375_ff8a_11e8_b148_548ca034d556row0_col9 {\n",
       "            background-color:  #d7191c;\n",
       "        }</style>  \n",
       "<table id=\"T_affff375_ff8a_11e8_b148_548ca034d556\" > \n",
       "<thead>    <tr> \n",
       "        <th class=\"blank level0\" ></th> \n",
       "        <th class=\"col_heading level0 col0\" >download</th> \n",
       "        <th class=\"col_heading level0 col1\" >screen</th> \n",
       "        <th class=\"col_heading level0 col2\" >device</th> \n",
       "        <th class=\"col_heading level0 col3\" >easi</th> \n",
       "        <th class=\"col_heading level0 col4\" >complaint</th> \n",
       "        <th class=\"col_heading level0 col5\" >price</th> \n",
       "        <th class=\"col_heading level0 col6\" >disappoint</th> \n",
       "        <th class=\"col_heading level0 col7\" >worth</th> \n",
       "        <th class=\"col_heading level0 col8\" >recommend</th> \n",
       "        <th class=\"col_heading level0 col9\" >hate</th> \n",
       "    </tr></thead> \n",
       "<tbody>    <tr> \n",
       "        <th id=\"T_affff375_ff8a_11e8_b148_548ca034d556level0_row0\" class=\"row_heading level0 row0\" >0</th> \n",
       "        <td id=\"T_affff375_ff8a_11e8_b148_548ca034d556row0_col0\" class=\"data row0 col0\" >1.46</td> \n",
       "        <td id=\"T_affff375_ff8a_11e8_b148_548ca034d556row0_col1\" class=\"data row0 col1\" >1.437</td> \n",
       "        <td id=\"T_affff375_ff8a_11e8_b148_548ca034d556row0_col2\" class=\"data row0 col2\" >1.324</td> \n",
       "        <td id=\"T_affff375_ff8a_11e8_b148_548ca034d556row0_col3\" class=\"data row0 col3\" >1.312</td> \n",
       "        <td id=\"T_affff375_ff8a_11e8_b148_548ca034d556row0_col4\" class=\"data row0 col4\" >1.307</td> \n",
       "        <td id=\"T_affff375_ff8a_11e8_b148_548ca034d556row0_col5\" class=\"data row0 col5\" >1.289</td> \n",
       "        <td id=\"T_affff375_ff8a_11e8_b148_548ca034d556row0_col6\" class=\"data row0 col6\" >1.28</td> \n",
       "        <td id=\"T_affff375_ff8a_11e8_b148_548ca034d556row0_col7\" class=\"data row0 col7\" >1.26</td> \n",
       "        <td id=\"T_affff375_ff8a_11e8_b148_548ca034d556row0_col8\" class=\"data row0 col8\" >1.241</td> \n",
       "        <td id=\"T_affff375_ff8a_11e8_b148_548ca034d556row0_col9\" class=\"data row0 col9\" >1.187</td> \n",
       "    </tr></tbody> \n",
       "</table> "
      ],
      "text/plain": [
       "<pandas.io.formats.style.Styler at 0x7f76ccdb7908>"
      ]
     },
     "execution_count": 5,
     "metadata": {},
     "output_type": "execute_result"
    }
   ],
   "source": [
    "dict2_ = {}\n",
    "for i in range(11, len(words)):\n",
    "    dict2_[words[i]] = [values[i]]\n",
    "df_dict2 = pd.DataFrame(dict2_)\n",
    "df_dict2.style.apply(highlighting)"
   ]
  },
  {
   "cell_type": "markdown",
   "metadata": {},
   "source": [
    "## Conclusion on TF-IDF analysis\n",
    "\n",
    "Thanks to this analysis, we are able to target Kindle-specific words which are about technology. In the results displayed, a color and a number is associated to each word. A color close to green and a number close to 2 denotes a very specific word, i.e a number that appears way more often in the Kindle corpus than in the Books one. At the other side of the gradient, a color close to red and a value close to one denotes a not very specific word, A word with a value of 1 appearing exactly the same proportion of time in the two corpus.\n",
    "\n",
    "Those words will help us target the technologie-specific reviews about the Kindle in the next step of our analysis."
   ]
  }
 ],
 "metadata": {
  "kernelspec": {
   "display_name": "Python 3",
   "language": "python",
   "name": "python3"
  },
  "language_info": {
   "codemirror_mode": {
    "name": "ipython",
    "version": 3
   },
   "file_extension": ".py",
   "mimetype": "text/x-python",
   "name": "python",
   "nbconvert_exporter": "python",
   "pygments_lexer": "ipython3",
   "version": "3.6.6"
  }
 },
 "nbformat": 4,
 "nbformat_minor": 2
}
