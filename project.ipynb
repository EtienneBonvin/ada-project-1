{
 "cells": [
  {
   "cell_type": "markdown",
   "metadata": {},
   "source": [
    "# ADA PROJECT - Amazon Kindle User Experience\n",
    "### MILESTONE 3\n",
    "### E. Bonvin, D. Dudzicz, X. Pantet"
   ]
  },
  {
   "cell_type": "markdown",
   "metadata": {},
   "source": [
    "## Project Presentation and Research Question Summary\n",
    "\n",
    "In the scope of our project, we decided to analyze the impact that Amazon's Kindle on its customers' reading habits. We are interested in seeing whether the e-reader from the e-commerce giant has an effect on users' behaviour and if it does, how these are being modified. Our main analysis axis were the variations and shifts in tendencies that can be observed from the launch of the Kindle in November 2007 until 2014.\n",
    "\n",
    "We articulate our analysis around the following research questions:\n",
    "\n",
    "- Is the Kindle getting more readers than classical books with respect to the size of the available titles catalogs?\n",
    "- Has the Kindle changed frequent readers' reading habits or reading pace?\n",
    "- Is the Kindle successfuly retaining the new users who try it?\n",
    "- How important is the Kindle in the proportion of books read for frequent users?\n",
    "- How is users' ebooks-books proportion varying in time?\n",
    "- Is the technical aspect of the medium an important satisfaction factors in customers' reviews?"
   ]
  },
  {
   "cell_type": "markdown",
   "metadata": {},
   "source": [
    "## Results Computation Disclaimer\n",
    "\n",
    "Due to Jupyter Notebooks tendency to halt for no reason, its repeated crashes with heavy computations and Pyspark's habit not to implement a lot of common MySQL operators, a lot of presented results had to be computed using Python 3 and Scala Spark without Jupyter Notebook. Those results are imported and appear to be magic values but they are not. We also spare the reader with boring extensive SQL querying given its simplicity and tediousness."
   ]
  },
  {
   "cell_type": "code",
   "execution_count": 617,
   "metadata": {},
   "outputs": [],
   "source": [
    "#Imports of mathematical and statistical libraries\n",
    "import pandas as pd\n",
    "import numpy as np\n",
    "import statistics\n",
    "\n",
    "#Imports of pyspark functions\n",
    "from pyspark.sql import *\n",
    "from pyspark.sql.functions import *\n",
    "from pyspark.sql.types import StructType, StructField, IntegerType, StringType, FloatType\n",
    "from pyspark.sql.functions import col\n",
    "import os.path\n",
    "import findspark\n",
    "\n",
    "#Imports of graphical representations and plotting libraries\n",
    "import matplotlib.pyplot as plt\n",
    "import seaborn as snb\n",
    "from ipysankeywidget import SankeyWidget\n",
    "from ipywidgets import Layout\n",
    "from IPython.display import Image\n",
    "\n",
    "#Imports for LDA\n",
    "from collections import Counter\n",
    "from pyspark.ml.clustering import LDA, LDAModel, DistributedLDAModel\n",
    "from pyspark.ml.linalg import Vectors\n",
    "\n",
    "#Imports of natural language processing libraries\n",
    "from textblob import TextBlob\n",
    "from nltk.stem.snowball import SnowballStemmer\n",
    "\n",
    "#PySpark SQL context creation\n",
    "findspark.init()\n",
    "sc = pyspark.SparkContext()\n",
    "sc.setCheckpointDir('checkpoint/')\n",
    "spark = SparkSession.builder.getOrCreate()\n",
    "sqlContext = SQLContext(spark)"
   ]
  },
  {
   "cell_type": "markdown",
   "metadata": {},
   "source": [
    "## Analysis Structure\n",
    "\n",
    "Our analysis is divided into two main parts. The first one tackles the purely quantitative and numerical aspects of the reviews. We analyze the number and proportion of users for each platform, their monthly consumption, etc.\n",
    "\n",
    "The second one presents a sentiment analysis on the review texts of the Kindle in order to enhance the precision of the tendency observed in part one."
   ]
  },
  {
   "cell_type": "markdown",
   "metadata": {},
   "source": [
    "## Datasets Used\n",
    "\n",
    "We use four datasets consisting of amazon reviews gathered by Julian McAuley (UCSD) available on http://jmcauley.ucsd.edu/data/amazon/. These datasets contain various amazon customers reviews collected from May 1996 to July 2014.\n",
    "\n",
    "The data is very-well formated thanks to the work of the author and is categorized given the kind of item being reviewed. We used the following datasets:\n",
    "\n",
    "- ratings_Books.csv (~900MB)\n",
    "- ratings_Kindle_Store.csv (~130MB)\n",
    "- reviews_Books.json (~20GB)\n",
    "- reviews_Kindle_Store.json (~2.2GB)\n",
    "\n",
    "The two first datasets are simplified versions of their respective latter files. They are much lighter, only presenting numerical values of the reviews. They consist of 4-tuples:\n",
    "\n",
    "- __userID:__ a unique ID of each customer that is coherent among all dataset present on the website\n",
    "- __ASIN:__ the unique amazon product id number\n",
    "- __rating:__ the rating of the review in the range [1,5] stars\n",
    "- __unixTimestamp:__ the timestamp in the UNIX epoch format\n",
    "\n",
    "The last two datasets are much more complete:\n",
    "\n",
    "- __userID__\n",
    "- __ASIN__\n",
    "- __userName:__ the customer real name\n",
    "- __helpful:__ the helpfulness of the review as a ratio given by other amazon customers\n",
    "- __reviewText:__ the review text itself\n",
    "- __rating__\n",
    "- __summary:__ the summary of the review\n",
    "- __unixTimestamp__\n",
    "- __reviewTime:__ timestamp in a human readable format\n",
    "\n",
    "Even though, these datasets hold a lot of informations, we focused only on the reviewText field. Indeed, all the key aspects that we needed for the first part of the analysis are present in the two first reduced datasets."
   ]
  },
  {
   "cell_type": "markdown",
   "metadata": {},
   "source": [
    "## Data Cleaning\n",
    "\n",
    "Since the datasets are very well formated thanks to the work of Julian McAuley (UCSD), we do not have any data cleaning to do properly speaking. On the other hand, there are some inconsistencies in the ratings and reviews that we have to deal with (too many reviews per user per period of time, incoherent `reviewTime` given the release date of the Kindle) that need to be filtered. Those are explained in the latter parts when needed."
   ]
  },
  {
   "cell_type": "markdown",
   "metadata": {},
   "source": [
    "## Data Loading"
   ]
  },
  {
   "cell_type": "markdown",
   "metadata": {},
   "source": [
    "We define the global environment variables that allow us to read data and store intermediate results during our work. We also defines schema for .csv file imports but not for .json which do not require it."
   ]
  },
  {
   "cell_type": "code",
   "execution_count": 2,
   "metadata": {},
   "outputs": [],
   "source": [
    "#Global variable definitions\n",
    "DATA_FOLDER = 'data/'\n",
    "RESULT_FOLDER = 'results/'\n",
    "RDD_FILENAME = \"stemstem.parquet\"\n",
    "\n",
    "#Name of the datasets files downloaded from http://jmcauley.ucsd.edu/data/amazon/\n",
    "RATINGS_KINDLE = 'ratings_Kindle_Store.csv'\n",
    "RATINGS_BOOKS = 'ratings_Books.csv'\n",
    "\n",
    "#Schema for books and kindle ratings\n",
    "RATINGS_SCHEMA = StructType([\n",
    "    StructField(\"User\", StringType(), True),\n",
    "    StructField(\"Asin\", StringType(), True),\n",
    "    StructField(\"Ratings\", FloatType(), True),\n",
    "    StructField(\"Timestamp\", IntegerType(), True)])\n",
    "\n",
    "#Schema for reading saved kindle catalogue size\n",
    "KINDLE_CATALOGUE_SCHEMA = StructType([\n",
    "    StructField(\"Year\", IntegerType(), True),\n",
    "    StructField(\"Kindle_catalogue_size\", IntegerType(), True)])\n",
    "\n",
    "#Schema for reading saved books catalogue size\n",
    "BOOKS_CATALOGUE_SCHEMA = StructType([\n",
    "    StructField(\"Year\", IntegerType(), True),\n",
    "    StructField(\"Books_catalogue_size\", IntegerType(), True)])\n",
    "\n",
    "RATINGS_USER = 0\n",
    "RATINGS_ASIN = 1\n",
    "RATINGS_RATINGS = 2\n",
    "RATINGS_TIMESTAMP = 3"
   ]
  },
  {
   "cell_type": "code",
   "execution_count": 146,
   "metadata": {},
   "outputs": [],
   "source": [
    "# Ratings datasets\n",
    "\n",
    "# Kindle\n",
    "df_ratings_kindle = spark.read.csv(DATA_FOLDER + RATINGS_KINDLE, header = False, schema = RATINGS_SCHEMA)\n",
    "print(\"---Kindle rating data sample---\")\n",
    "print(df_ratings_kindle.head(5))\n",
    "\n",
    "# Books\n",
    "df_ratings_books = spark.read.csv(DATA_FOLDER + RATINGS_BOOKS, header = False, schema = RATINGS_SCHEMA)\n",
    "print(\"---Books rating data sample---\")\n",
    "print(df_ratings_books.head(5))\n",
    "\n",
    "#We register the datasets to be used in the SQL queries in the latter parts\n",
    "df_ratings_kindle.registerTempTable(\"ratings_kindle\")\n",
    "df_ratings_books.registerTempTable(\"ratings_books\")"
   ]
  },
  {
   "cell_type": "code",
   "execution_count": null,
   "metadata": {},
   "outputs": [],
   "source": [
    "#Reviews datasets\n",
    "df_kindle_reviews = spark.read.json(\"data/reviews_Kindle_Store.json\")\n",
    "df_books_reviews = spark.read.json(\"data/reviews_Books.json\")"
   ]
  },
  {
   "cell_type": "markdown",
   "metadata": {},
   "source": [
    "## Part 1 - Quantitative results"
   ]
  },
  {
   "cell_type": "markdown",
   "metadata": {},
   "source": [
    "### 1.1 Kindle popularity growth\n",
    "\n",
    "In this subpart, we desire to observe if the Kindle appeals more to new users than books. We desire to observe the tendency with respect to the size of the ebooks and books catalogs."
   ]
  },
  {
   "cell_type": "code",
   "execution_count": 156,
   "metadata": {},
   "outputs": [],
   "source": [
    "#We previously computed the size of the catalogue of the kindle and books on amazon per year and we stored it in parquet files\n",
    "#we do not include the detail of the computations as it is very simple and tidious SQL queries which will be still very present\n",
    "#in the rest of the notebook.\n",
    "df_kindle_catalogue_years = spark.read.csv(RESULT_FOLDER+'kindle_catalogue_size_year.csv', header = False, schema = KINDLE_CATALOGUE_SCHEMA)\n",
    "df_kindle_catalogue_years.registerTempTable(\"df_kindle_catalogue_years\")\n",
    "df_books_catalogue_years = spark.read.csv(RESULT_FOLDER+'books_catalogue_years.csv', header = False, schema = BOOKS_CATALOGUE_SCHEMA)\n",
    "df_books_catalogue_years.registerTempTable(\"df_books_catalogue_years\")"
   ]
  },
  {
   "cell_type": "code",
   "execution_count": 157,
   "metadata": {},
   "outputs": [],
   "source": [
    "#We compute the numbers of the new kindle users starting from 2008 since the kindle launched in 2007. Odly we have\n",
    "#observed that there were a lot of kindle reviews even before 2006. We need to filter this erroneous data first.\n",
    "kindle_new_users_by_years = spark.sql(\"\"\"\n",
    "                                SELECT year, COUNT(User) AS new_users\n",
    "                                FROM \n",
    "                                (SELECT User, YEAR(FROM_UNIXTIME(MIN(Timestamp))) AS year\n",
    "                                FROM ratings_kindle\n",
    "                                WHERE YEAR(FROM_UNIXTIME(Timestamp)) > 2007\n",
    "                                GROUP BY User)\n",
    "                                GROUP BY Year\n",
    "                                ORDER BY year\n",
    "                            \"\"\")\n",
    "kindle_new_users_by_years.registerTempTable(\"kindle_users_by_years\")"
   ]
  },
  {
   "cell_type": "code",
   "execution_count": 158,
   "metadata": {},
   "outputs": [],
   "source": [
    "#We observed that the books variation was very important before the kindle appearance and we settled on a prior five year\n",
    "#before the kindle launched year basis for our books baseline.\n",
    "books_new_users_by_years = spark.sql(\"\"\"\n",
    "                                SELECT year, COUNT(User) AS new_users\n",
    "                                FROM \n",
    "                                (SELECT User, YEAR(FROM_UNIXTIME(MIN(Timestamp))) AS year\n",
    "                                FROM ratings_books\n",
    "                                WHERE YEAR(FROM_UNIXTIME(Timestamp)) > 2003 \n",
    "                                GROUP BY User)\n",
    "                                GROUP BY Year\n",
    "                                ORDER BY year\n",
    "                            \"\"\")\n",
    "books_new_users_by_years.registerTempTable(\"books_users_by_years\")"
   ]
  },
  {
   "cell_type": "code",
   "execution_count": 160,
   "metadata": {},
   "outputs": [],
   "source": [
    "#Covnersion to pandas\n",
    "df_books_catalogue_years = df_books_catalogue_years.orderBy('Year').toPandas()\n",
    "df_kindle_catalogue_years = df_kindle_catalogue_years.orderBy('Year').toPandas()\n",
    "df_kindle_new_users_by_years = kindle_new_users_by_years.toPandas()\n",
    "df_books_new_users_by_years = books_new_users_by_years.toPandas()\n",
    "\n",
    "#Normalization and removal of 2014 outliers since the gathering wasn't complete for this last year.\n",
    "books_users_normalized = df_books_new_users_by_years['new_users']/df_books_catalogue_years['Books_catalogue_size']\n",
    "books_users_normalized = books_users_normalized[:-2]\n",
    "kindle_users_normalized = df_kindle_new_users_by_years['new_users']/df_kindle_catalogue_years['Kindle_catalogue_size']\n",
    "kindle_users_normalized = kindle_users_normalized[:-2]"
   ]
  },
  {
   "cell_type": "code",
   "execution_count": 161,
   "metadata": {},
   "outputs": [
    {
     "data": {
      "image/png": "[encoded data removed]",
      "text/plain": [
       "<Figure size 864x432 with 1 Axes>"
      ]
     },
     "metadata": {},
     "output_type": "display_data"
    }
   ],
   "source": [
    "years1 = (df_kindle_new_users_by_years['year'])[:-1]\n",
    "years2 = (df_books_new_users_by_years['year'])[:-1]\n",
    "\n",
    "fig, ax = plt.subplots()\n",
    "fig.set_size_inches(12, 6)\n",
    "plt.title(\"New users normalized by the catalogue size\")\n",
    "ax.plot(years1,kindle_users_normalized, label='normalized kindle growth')\n",
    "ax.plot(years2,books_users_normalized, label='normalized books growth')\n",
    "plt.legend()\n",
    "plt.show()"
   ]
  },
  {
   "cell_type": "markdown",
   "metadata": {},
   "source": [
    "It appears that __new users are more interested by the Kindle than by the books__ with respect to the size of the catalog. However both mediums have an important and __similar increase in growth starting in 2011__, in a similar manner as the Amazon.com brand popularity growth ref. [https://www.statista.com/chart/4298/amazons-long-term-growth/.] The fact that book curve is lower has to be nuanced, since the Amazon books offer was already present in 1996, almost 10 years before the first datapoint, we are plotting here. This has to be taken into account. Nonetheless, we can observe that the __Kindle has an important popularity among newcomers__."
   ]
  },
  {
   "cell_type": "markdown",
   "metadata": {},
   "source": [
    "### 1.2 Change in frequent users' reading habits\n",
    "\n",
    "We observed in 1.1 that the the Kindle was able to appeal to newcomers, but has it been successfull in noticeably changing frequent users reading behaviour? We want to observe the effect of the Kindle on frequent users' reading habits and monthly pace of reading."
   ]
  },
  {
   "cell_type": "code",
   "execution_count": 443,
   "metadata": {},
   "outputs": [],
   "source": [
    "#We need to get first users who consume both mediums in order to have a meaningful point of comparison. It would be\n",
    "#of little interest to compare separate popultions.\n",
    "common_users = spark.sql(\"\"\"SELECT DISTINCT ratings_books.User\n",
    "                            FROM ratings_books\n",
    "                            WHERE ratings_books.User\n",
    "                            IN (SELECT ratings_kindle.User\n",
    "                            FROM ratings_kindle\n",
    "                            WHERE YEAR(FROM_UNIXTIME(ratings_kindle.Timestamp)) > 2007)\"\"\")\n",
    "\n",
    "common_users.write.parquet(RESULT_FOLDER+\"common_users_list\")\n",
    "common_users = spark.read.parquet(RESULT_FOLDER+\"common_users_list\")\n",
    "common_users.registerTempTable(\"common_users\")"
   ]
  },
  {
   "cell_type": "markdown",
   "metadata": {},
   "source": [
    "We desire to obtain users who already owned books before the Kindle appearance.\n",
    "In this step we also filter out readers who consume __more than 30 books a month__. We decided to discard these outliers since we have discovered that amazon.com was victim of faked and spoofed ratings that aimed to artificially increase the grade of certain products ref. [https://www.independent.co.uk/news/business/news/amazon-bans-biased-reviews-incentivised-a7344761.html]."
   ]
  },
  {
   "cell_type": "code",
   "execution_count": 447,
   "metadata": {},
   "outputs": [],
   "source": [
    "#Users who owns a kindle an who were reading books before its appearance\n",
    "old_books_users = spark.sql(\"\"\"SELECT User, \n",
    "                                      YEAR(FROM_UNIXTIME(ratings_books.Timestamp)) AS year,\n",
    "                                      MONTH(FROM_UNIXTIME(ratings_books.Timestamp)) AS month,\n",
    "                                      COUNT(ASIN) as nb_books\n",
    "                                      FROM ratings_books\n",
    "                                      WHERE YEAR(FROM_UNIXTIME(ratings_books.Timestamp)) <= 2007 AND\n",
    "                                      YEAR(FROM_UNIXTIME(ratings_books.Timestamp)) >= 2004 AND\n",
    "                                      ratings_books.User IN\n",
    "                                          (SELECT * FROM common_users)\n",
    "                                      GROUP BY User, year, month\n",
    "                                      HAVING nb_books < 30\"\"\")"
   ]
  },
  {
   "cell_type": "code",
   "execution_count": 167,
   "metadata": {},
   "outputs": [],
   "source": [
    "#Writing results to parquet and reading them to accelerate latter queries.\n",
    "old_books_users.write.parquet(RESULT_FOLDER+\"old_books_monthly_read\")\n",
    "old_books_monthly_read = spark.read.parquet(RESULT_FOLDER+\"old_books_monthly_read\")\n",
    "old_books_monthly_read.registerTempTable(\"old_books_monthly_read\")"
   ]
  },
  {
   "cell_type": "markdown",
   "metadata": {},
   "source": [
    "We desire to retain only frequent readers to have a better point of view of their habits. We define a threshold of __at least 6 books a year__."
   ]
  },
  {
   "cell_type": "code",
   "execution_count": 168,
   "metadata": {},
   "outputs": [],
   "source": [
    "old_books_users_avg_montly = spark.sql(\"\"\"SELECT year, month, AVG(nb_books) AS monthly_books\n",
    "                                          FROM old_books_monthly_read\n",
    "                                          JOIN (SELECT User \n",
    "                                                FROM old_books_monthly_read\n",
    "                                                GROUP BY User, Year\n",
    "                                                HAVING SUM(nb_books) > 5) t\n",
    "                                          ON  old_books_monthly_read.User = t.User     \n",
    "                                          GROUP BY year, month\n",
    "                                          ORDER BY year, month\"\"\")"
   ]
  },
  {
   "cell_type": "code",
   "execution_count": null,
   "metadata": {},
   "outputs": [],
   "source": [
    "#Writing results to parquet and reading them to accelerate latter queries.\n",
    "old_books_users_avg_montly.write.parquet(RESULT_FOLDER+ 'old_books_users_avg_montly')\n",
    "old_books_users_avg_montly = spark.read.parquet(RESULT_FOLDER+ 'old_books_users_avg_montly')\n",
    "old_books_users_avg_montly.registerTempTable(\"old_books_users_avg_montly\")"
   ]
  },
  {
   "cell_type": "code",
   "execution_count": 9,
   "metadata": {},
   "outputs": [],
   "source": [
    "#common users kindle ebooks purchases\n",
    "df_common_kindle = spark.sql(\"\"\"SELECT *\n",
    "                              FROM ratings_kindle\n",
    "                              WHERE YEAR(FROM_UNIXTIME(ratings_kindle.Timestamp)) > 2007 AND\n",
    "                              ratings_kindle.User IN\n",
    "                              (SELECT * FROM common_users)\"\"\")\n",
    "df_common_kindle.registerTempTable(\"common_kindle\")\n",
    "df_common_kindle.write.parquet(RESULT_FOLDER+\"kindle_reviews\")\n",
    "df_users_reduced = df_kindle_proportion_time.select('User')\n",
    "df_users_reduced.registerTempTable(\"df_users_reduced\")"
   ]
  },
  {
   "cell_type": "code",
   "execution_count": 15,
   "metadata": {},
   "outputs": [],
   "source": [
    "#common users books purchases\n",
    "df_common_books = spark.sql(\"\"\"SELECT *\n",
    "                              FROM ratings_books\n",
    "                              WHERE YEAR(FROM_UNIXTIME(ratings_books.Timestamp)) > 2007 \n",
    "                              AND ratings_books.User IN\n",
    "                              (SELECT * FROM common_users)\"\"\")\n",
    "df_common_books.registerTempTable(\"common_books\")\n",
    "df_common_books.write.parquet(RESULT_FOLDER+\"books_review\")"
   ]
  },
  {
   "cell_type": "code",
   "execution_count": 194,
   "metadata": {},
   "outputs": [],
   "source": [
    "common_books_user_time = spark.sql(\"\"\"SELECT User, YEAR(FROM_UNIXTIME(Timestamp)) AS Year, MONTH(FROM_UNIXTIME(Timestamp)) AS Month, COUNT(Asin) AS nb_books, AVG(Ratings) AS avg_book_rating\n",
    "                                  FROM common_books\n",
    "                                  GROUP BY User, YEAR(FROM_UNIXTIME(Timestamp)), MONTH(FROM_UNIXTIME(Timestamp))\"\"\")\n",
    "common_books_user.registerTempTable(\"common_books_user_time\")"
   ]
  },
  {
   "cell_type": "code",
   "execution_count": 195,
   "metadata": {},
   "outputs": [],
   "source": [
    "common_kindle_user_time = spark.sql(\"\"\"SELECT User, YEAR(FROM_UNIXTIME(Timestamp)) AS Year, MONTH(FROM_UNIXTIME(Timestamp)) AS Month, COUNT(Asin) AS nb_ebooks, AVG(Ratings) AS avg_kindle_rating\n",
    "                                  FROM common_kindle\n",
    "                                  GROUP BY User, YEAR(FROM_UNIXTIME(Timestamp)), MONTH(FROM_UNIXTIME(Timestamp))\"\"\")\n",
    "common_kindle_user.registerTempTable(\"common_kindle_user_time\")"
   ]
  },
  {
   "cell_type": "code",
   "execution_count": 196,
   "metadata": {
    "scrolled": true
   },
   "outputs": [],
   "source": [
    "#Merge of the tables\n",
    "time_usage = spark.sql(\"\"\"SELECT \n",
    "                            common_kindle_user_time.User AS User,\n",
    "                            common_kindle_user_time.Year AS Year,\n",
    "                            common_kindle_user_time.Month as Month,\n",
    "                            common_kindle_user_time.nb_ebooks AS nb_ebooks,\n",
    "                            common_books_user_time.nb_books AS nb_books,\n",
    "                            common_kindle_user_time.avg_kindle_rating AS avg_kindle_rating,\n",
    "                            common_books_user_time.avg_book_rating AS avg_book_rating\n",
    "                            FROM common_kindle_user_time\n",
    "                            LEFT JOIN common_books_user_time\n",
    "                            ON (common_kindle_user_time.User = common_books_user_time.User \n",
    "                            AND common_kindle_user_time.Year = common_books_user_time.Year \n",
    "                            AND common_kindle_user_time.Month = common_books_user_time.Month )\n",
    "                            UNION\n",
    "                            SELECT common_books_user_time.User AS User,\n",
    "                            common_books_user_time.Year AS Year,\n",
    "                            common_books_user_time.Month AS Month,\n",
    "                            common_kindle_user_time.nb_ebooks AS nb_ebooks,\n",
    "                            common_books_user_time.nb_books AS nb_books,\n",
    "                            common_kindle_user_time.avg_kindle_rating AS avg_kindle_rating,\n",
    "                            common_books_user_time.avg_book_rating AS avg_book_rating\n",
    "                            FROM common_books_user_time\n",
    "                            LEFT JOIN common_kindle_user_time \n",
    "                            ON (common_kindle_user_time.User = common_books_user_time.User \n",
    "                            AND common_kindle_user_time.Year = common_books_user_time.Year \n",
    "                            AND common_kindle_user_time.Month = common_books_user_time.Month )\"\"\")\n",
    "\n",
    "time_usage.registerTempTable('time_usage')"
   ]
  },
  {
   "cell_type": "code",
   "execution_count": 197,
   "metadata": {},
   "outputs": [],
   "source": [
    "#Replacement of null by 0\n",
    "kindle_proportion_time =  spark.sql(\"\"\"SELECT User, \n",
    "                                              Year,\n",
    "                                              Month,\n",
    "                                              COALESCE(nb_ebooks, 0) AS nb_ebooks,\n",
    "                                              COALESCE(nb_books, 0) AS nb_books,\n",
    "                                              COALESCE(avg_kindle_rating, 0) AS avg_kindle_rating,\n",
    "                                              COALESCE(avg_book_rating, 0) AS avg_book_rating\n",
    "                                        FROM time_usage\"\"\")\n",
    "kindle_proportion_time.registerTempTable('kindle_proportion_time')"
   ]
  },
  {
   "cell_type": "code",
   "execution_count": 453,
   "metadata": {},
   "outputs": [],
   "source": [
    "#Writing of results into parquet file\n",
    "kindle_proportion_time.write.parquet(\"results/month_user_proportion.parquet\")\n",
    "df_kindle_proportion_time = spark.read.parquet(\"results/month_user_proportion.parquet\")"
   ]
  },
  {
   "cell_type": "code",
   "execution_count": 454,
   "metadata": {},
   "outputs": [
    {
     "name": "stdout",
     "output_type": "stream",
     "text": [
      "+--------------+----+-----+---------+--------+-----------------+------------------+\n",
      "|          User|Year|Month|nb_ebooks|nb_books|avg_kindle_rating|   avg_book_rating|\n",
      "+--------------+----+-----+---------+--------+-----------------+------------------+\n",
      "|A104VB083XXPEY|2014|    4|        1|       1|              5.0|               5.0|\n",
      "|A16TE3MO6LY321|2012|    7|        1|       2|              1.0|               3.0|\n",
      "|A17MSEUE0J15D3|2011|    8|        1|      11|              2.0| 4.181818181818182|\n",
      "|A18MTONR63P37N|2014|    2|       13|      14|3.769230769230769|3.7857142857142856|\n",
      "|A197K9TWDPSSOU|2013|    6|        1|       5|              5.0|               4.8|\n",
      "|A1CHCZ0T4892PH|2012|    9|        2|       2|              4.5|               4.5|\n",
      "|A1CRJHHAKAWW4L|2014|    3|        1|       1|              5.0|               5.0|\n",
      "|A1DEK765QOHB2D|2013|    1|        1|       1|              5.0|               5.0|\n",
      "|A1EUEFNV11209V|2013|    5|        1|       4|              4.0|              4.25|\n",
      "|A1FW6EV5WN0IS1|2012|    3|        1|       1|              5.0|               5.0|\n",
      "+--------------+----+-----+---------+--------+-----------------+------------------+\n",
      "only showing top 10 rows\n",
      "\n"
     ]
    }
   ],
   "source": [
    "#A look of the database obtained\n",
    "df_kindle_proportion_time.show(10)"
   ]
  },
  {
   "cell_type": "code",
   "execution_count": 449,
   "metadata": {},
   "outputs": [],
   "source": [
    "df_kindle_proportion_time.registerTempTable(\"df_kindle_proportion_time\")"
   ]
  },
  {
   "cell_type": "markdown",
   "metadata": {},
   "source": [
    "We need to compute the reader average total number of books (ebooks and books) read by month for each year but also the reader average total number of only ebooks read by month for each year."
   ]
  },
  {
   "cell_type": "code",
   "execution_count": 80,
   "metadata": {},
   "outputs": [],
   "source": [
    "#Books and kindle ebooks read monthly for each year\n",
    "books_read = spark.sql(\"\"\"SELECT * FROM ((SELECT Year, \n",
    "                                AVG(nb_books+nb_ebooks) AS monthly_books\n",
    "                                FROM df_kindle_proportion_time\n",
    "                                GROUP BY year)\n",
    "                                UNION\n",
    "                                (SELECT Year, AVG(monthly_books) AS monthly_books\n",
    "                                FROM old_books_users_avg_montly\n",
    "                                GROUP BY Year))\n",
    "                                ORDER BY Year\n",
    "                                \"\"\")"
   ]
  },
  {
   "cell_type": "code",
   "execution_count": null,
   "metadata": {},
   "outputs": [],
   "source": [
    "#Only books read monthly for each year\n",
    "physical_books_read = spark.sql(\"\"\"SELECT * FROM ((SELECT Year, \n",
    "                                AVGnb_books AS monthly_books\n",
    "                                FROM df_kindle_proportion_time\n",
    "                                GROUP BY year)\n",
    "                                UNION\n",
    "                                (SELECT Year, AVG(monthly_books) AS monthly_books\n",
    "                                FROM old_books_users_avg_montly\n",
    "                                GROUP BY Year))\n",
    "                                ORDER BY Year\n",
    "                                \"\"\")"
   ]
  },
  {
   "cell_type": "code",
   "execution_count": 95,
   "metadata": {},
   "outputs": [
    {
     "data": {
      "image/png": "[encoded data removed]",
      "text/plain": [
       "<Figure size 864x432 with 1 Axes>"
      ]
     },
     "metadata": {},
     "output_type": "display_data"
    }
   ],
   "source": [
    "#Plotting of the two curves\n",
    "years = physical_books_read.toPandas()['Year'].values\n",
    "\n",
    "books = physical_books_read.toPandas()['monthly_books'].values\n",
    "total_books = books_read.toPandas()['monthly_books'].values\n",
    "\n",
    "fig, ax = plt.subplots()\n",
    "fig.set_size_inches(12, 6)\n",
    "plt.title(\"Monthly number of books read as a function of the year\")\n",
    "ax.plot(years,books, label='only books')\n",
    "ax.plot(years,total_books, label='books and ebooks')\n",
    "plt.legend()\n",
    "plt.show()"
   ]
  },
  {
   "cell_type": "markdown",
   "metadata": {},
   "source": [
    "We observe that among frequent users, __the appearance of the Kindle hasn't increased the number of read books per month on average but replace a fraction of these__, approximately 1 out of 4 books is an ebook by 2014. We can see that the proportion of ebooks increased in an important manner but has a tendency to settle for the last period. (This has to be nuanced by the smaller dataset gathered for the last 2014 year). These numbers are not normalized by the respective titles catalog size of each platform. though."
   ]
  },
  {
   "cell_type": "markdown",
   "metadata": {},
   "source": [
    "### 1.3 E-books to All-books ratio normalized by respective catalogue sizes\n",
    "\n",
    "Let us include the titles catalog size factor in the analysis of the previous tendency."
   ]
  },
  {
   "cell_type": "markdown",
   "metadata": {},
   "source": [
    "We load a previously computed database constituted of previous results relative to user consumption of e-books and books per month for frequent readers and including the catalog size that has to be joined to them with the help of SQL queries."
   ]
  },
  {
   "cell_type": "code",
   "execution_count": 451,
   "metadata": {},
   "outputs": [
    {
     "name": "stdout",
     "output_type": "stream",
     "text": [
      "+--------------------+----+-----+---------+--------+-----------------+-----------------+---------------------+--------------------+\n",
      "|                User|Year|Month|nb_ebooks|nb_books|avg_kindle_rating|  avg_book_rating|kindle_catalogue_size|books_catalogue_size|\n",
      "+--------------------+----+-----+---------+--------+-----------------+-----------------+---------------------+--------------------+\n",
      "|A0625983252ECA1NT...|2013|   11|        0|       1|              0.0|              5.0|               324302|             1903718|\n",
      "|A072353333NAMFEC9...|2013|    7|        0|       2|              0.0|              4.0|               324302|             1903718|\n",
      "|A07563631RVFIZLOCOYX|2013|    1|        1|       1|              5.0|              5.0|               324302|             1903718|\n",
      "|A07759332OIY0BZ48...|2013|    8|        0|       1|              0.0|              5.0|               324302|             1903718|\n",
      "|      A100BTJ98E8J68|2014|    3|        1|       2|              5.0|              5.0|               430506|             2168830|\n",
      "|      A100BX5ZTCBI39|2014|    4|        1|       2|              5.0|              5.0|               430506|             2168830|\n",
      "|      A1047EDJ84IMAS|2014|    2|        1|       1|              1.0|              1.0|               430506|             2168830|\n",
      "|      A104GP66XU8REZ|2013|    6|        0|       1|              0.0|              5.0|               324302|             1903718|\n",
      "|      A106NYN1QMTV8U|2013|   12|        1|       2|              5.0|              5.0|               324302|             1903718|\n",
      "|      A10744IS5OVECX|2012|    9|        2|       3|              4.5|4.666666666666667|               153658|             1410246|\n",
      "+--------------------+----+-----+---------+--------+-----------------+-----------------+---------------------+--------------------+\n",
      "only showing top 10 rows\n",
      "\n"
     ]
    }
   ],
   "source": [
    "kindle_proportion_time_factors = spark.read.parquet(\"results/df_kindle_proportion_time_factors.parquet\")\n",
    "kindle_proportion_time_factors.registerTempTable(\"kindle_proportion_time_factors\")\n",
    "kindle_proportion_time_factors.show(10)"
   ]
  },
  {
   "cell_type": "code",
   "execution_count": 455,
   "metadata": {},
   "outputs": [
    {
     "name": "stdout",
     "output_type": "stream",
     "text": [
      "+----+--------------------+-------------------+\n",
      "|Year|               ratio|                std|\n",
      "+----+--------------------+-------------------+\n",
      "|2008|0.026952544410628658| 0.1252574263034488|\n",
      "|2009| 0.05535833968654787|0.17710264142519203|\n",
      "|2010| 0.15182029796122012| 0.2771360628238975|\n",
      "|2011| 0.38443060676477814| 0.3457885001934083|\n",
      "|2012|  0.5070162664030109| 0.2991928594205472|\n",
      "|2013| 0.47604236503290687|0.24983270422877646|\n",
      "|2014|  0.5048594924349231|0.24439432980144282|\n",
      "+----+--------------------+-------------------+\n",
      "\n"
     ]
    }
   ],
   "source": [
    "normalized_proportion = spark.sql(\"\"\"SELECT Year, AVG(ratio) AS ratio, STDDEV(ratio) AS std\n",
    "                FROM (SELECT User, Year, AVG((nb_ebooks/kindle_catalogue_size)/(nb_ebooks/kindle_catalogue_size+nb_books/books_catalogue_size)) AS ratio\n",
    "                 FROM kindle_proportion_time_factors\n",
    "                 GROUP BY User, Year)\n",
    "             GROUP BY Year\n",
    "             ORDER BY Year\"\"\")\n",
    "df_normalized_proportion = normalized_proportion.toPandas()"
   ]
  },
  {
   "cell_type": "markdown",
   "metadata": {},
   "source": [
    "Let us plot this results as a error bar plot."
   ]
  },
  {
   "cell_type": "code",
   "execution_count": 457,
   "metadata": {},
   "outputs": [
    {
     "data": {
      "image/png": "[encoded data removed]",
      "text/plain": [
       "<Figure size 864x432 with 1 Axes>"
      ]
     },
     "metadata": {},
     "output_type": "display_data"
    }
   ],
   "source": [
    "yerr = df_normalized_proportion['std'].values\n",
    "y = df_normalized_proportion['ratio'].values\n",
    "years =  df_normalized_proportion['Year'].values\n",
    "fig, ax = plt.subplots()\n",
    "fig.set_size_inches(12, 6)\n",
    "plt.title(\"Normalized ebooks, books ratio as a function of time\")\n",
    "ax.errorbar(x = years, y= y,yerr = yerr, fmt='-o')\n",
    "plt.show()"
   ]
  },
  {
   "cell_type": "markdown",
   "metadata": {},
   "source": [
    "We observe a __similar growth then stabilization tendency__ for the normalized ratios. However we observe that the standard deviation is very important for each year. From this aspect, we decide to do a more in-depth analysis which focuses on the variation of each Kindle ratio population proportion with respect to the total number of frequent readers. "
   ]
  },
  {
   "cell_type": "markdown",
   "metadata": {},
   "source": [
    "### 1.4 Proportion of readers given their e-books ratio\n",
    "\n",
    "We compute and plot the proportion of users for each 10%-width bin e-books to total books ratio as a relative stacked vertical barplot for each year from 2008 to 2014. The numbers used where tediously computed using very boring and extravagant SQL queries which we preserve the reader from."
   ]
  },
  {
   "cell_type": "code",
   "execution_count": 508,
   "metadata": {
    "scrolled": true
   },
   "outputs": [
    {
     "data": {
      "image/png": "[encoded data removed]",
      "text/plain": [
       "<Figure size 720x360 with 1 Axes>"
      ]
     },
     "metadata": {},
     "output_type": "display_data"
    }
   ],
   "source": [
    "#Precomputed values with the help of SQL queries \n",
    "p_90_100 = np.array([0,0,0,0,0.0000294628,0.00001680711,0.00003006657])\n",
    "p_80_90  = np.array([0,0,0.00030873726,0.00011118783,0.00017677682809337354,0.00019664329888798213,0.0001403107040229885])\n",
    "p_70_80  = np.array([0,0,0,0.0002601795238714713,0.0008398158428652431,0.0009062691166141786,0.000781731065270936])\n",
    "p_60_70  = np.array([0,0.0009398496240601503,0.0006174745291756716,0.0011826341994157785,0.0019113050216933122,0.0030009477352035538,0.0023552153889573072])\n",
    "p_50_60  = np.array([0.0018181818181818182,0.003289473684210526,0.01173201605433776,0.04612273377721537,0.07465673251402058,0.062301726912901124,0.08396593416461413])\n",
    "p_40_50  = np.array([0.0024242424242424242,0.005639097744360902,0.029021302871256562,0.10714665846706954,0.18168981372884607,0.16197423032316619,0.21184911868842365])\n",
    "p_30_40  = np.array([0.004242424242424243,0.007518796992481203,0.02994751466502007,0.09129936019489811,0.14763383334231067,0.15830640531347293,0.17770350664511497])\n",
    "p_20_30  = np.array([0.006666666666666667,0.019736842105263157,0.04970669959864156,0.1362394597726977,0.17511608282090088,0.19948180215888694,0.19493165666050905])\n",
    "p_10_20  = np.array([0.01696969696969697,0.044642857142857144,0.09694350108058043,0.20199392126021498,0.22657652257164354,0.27173538993724944,0.22295370869252873])\n",
    "p_0_10   = np.array([0.9757575757575757,0.9356203007518797,0.7968508799012042,0.43118842910699284,0.20841912486555708,0.16000779733428636,0.12228077855603449])\n",
    "\n",
    "years = (2008,2009,2010,2011,2012,2013,2014)\n",
    "ind = (np.arange(7))    # the x locations for the groups\n",
    "width = 0.35       # the width of the bars: can also be len(x) sequence\n",
    "plt.figure(figsize=(10,5))\n",
    "\n",
    "p1 = plt.bar(ind, p_90_100, width)\n",
    "\n",
    "p2 = plt.bar(ind, p_80_90, width,\n",
    "            bottom=p_90_100)\n",
    "\n",
    "p3 = plt.bar(ind, p_70_80, width,\n",
    "            bottom=p_90_100+p_80_90)\n",
    "\n",
    "p4 = plt.bar(ind, p_60_70, width,\n",
    "            bottom=p_90_100+p_80_90+p_70_80)\n",
    "\n",
    "p5 = plt.bar(ind, p_50_60, width,\n",
    "              bottom=p_90_100+p_80_90+p_70_80+p_60_70)\n",
    "\n",
    "p6 = plt.bar(ind, p_40_50, width,\n",
    "            bottom=p_90_100+p_80_90+p_70_80+p_60_70+p_50_60)\n",
    "\n",
    "p7 = plt.bar(ind, p_30_40, width,\n",
    "            bottom=p_90_100+p_80_90+p_70_80+p_60_70+p_50_60+p_40_50)\n",
    "\n",
    "p8 = plt.bar(ind, p_20_30, width,\n",
    "            bottom=p_90_100+p_80_90+p_70_80+p_60_70+p_50_60+p_40_50+p_30_40)\n",
    "\n",
    "p9 = plt.bar(ind, p_10_20, width,\n",
    "            bottom=p_90_100+p_80_90+p_70_80+p_60_70+p_50_60+p_40_50+p_30_40+p_20_30)\n",
    "\n",
    "p10 = plt.bar(ind, p_0_10, width,\n",
    "            bottom=p_90_100+p_80_90+p_70_80+p_60_70+p_50_60+p_40_50+p_30_40+p_20_30+p_10_20)\n",
    "plt.ylabel('Proportion of users')\n",
    "plt.title('Histogram proportion of users given their ebooks, books ratio')\n",
    "plt.xticks(ind, years)\n",
    "plt.yticks(np.arange(0, 1.1, 0.1))\n",
    "plt.legend((p1[0],p2[0],p3[0],p4[0],p5[0],p6[0],p7[0],p8[0],p9[0],p10[0]), ('90-100%','80-90%','70-80%','60-70%','50-60%','40-50%','30-40%','20-30%','10-20%','0-10%'))\n",
    "plt.show()"
   ]
  },
  {
   "cell_type": "markdown",
   "metadata": {},
   "source": [
    "We observe that the intermetdiate e-books ratios such as 10-20%, 30-40%, 40-50% __have a tendency to increase over the years and represent an important proportion of the total readers__. However the higher percentage such a 60% and more constitute a small fraction of the users."
   ]
  },
  {
   "cell_type": "markdown",
   "metadata": {},
   "source": [
    "### 1.5 Change of e-books ratio over the years\n",
    "\n",
    "In the previous subpart, we observed a change of proportion among the proportion of users for a given e-books ratio with the years. We desire to analyze those variations more precisely."
   ]
  },
  {
   "cell_type": "code",
   "execution_count": 613,
   "metadata": {},
   "outputs": [],
   "source": [
    "#Pre-computed data used for the latter plotting\n",
    "user_ratio_variations = spark.read.parquet(RESULT_FOLDER+\"user_ratio_variations.parquet\").toPandas()"
   ]
  },
  {
   "cell_type": "markdown",
   "metadata": {},
   "source": [
    "We define three categories of users:\n",
    "\n",
    "- __Small Kindle readers:__ ratios $[0\\%,25\\%]$ of e-books to the total numbers of books read\n",
    "- __Medium Kindle readers:__ ratios $[25\\%,75\\%]$ of e-books to the total numbers of books read\n",
    "- __Large Kindle readers:__ ratios $[75\\%,100\\%]$ of e-books to the total numbers of books read\n",
    "\n",
    "We then plot the number of users that remain or change their reading classes for each year as a sankey diagram."
   ]
  },
  {
   "cell_type": "code",
   "execution_count": 614,
   "metadata": {},
   "outputs": [
    {
     "data": {
      "application/vnd.jupyter.widget-view+json": {
       "model_id": "8f929f66dc4c4caf87a6c309fec9da95",
       "version_major": 2,
       "version_minor": 0
      },
      "text/plain": [
       "SankeyWidget(layout=Layout(height='800', width='1200'), links=[{'source': 'small:25%', 'target': '_', 'value':…"
      ]
     },
     "metadata": {},
     "output_type": "display_data"
    }
   ],
   "source": [
    "#Sankey diagram plotting\n",
    "SankeyWidget(links=user_ratio_variations.to_dict('records'),layout = Layout(width=\"1200\", height=\"800\"), margins=dict(top=0, bottom=0, left=150, right=150))"
   ]
  },
  {
   "cell_type": "markdown",
   "metadata": {},
   "source": [
    "#### Pre-computed Sankey Diagram of User Ebooks Percentage Variation as a function of time ( compatiblity of the widget and display concerns )\n"
   ]
  },
  {
   "cell_type": "markdown",
   "metadata": {},
   "source": [
    "![Title](img/sankey.png)"
   ]
  },
  {
   "cell_type": "markdown",
   "metadata": {},
   "source": [
    "We can observe that __users tend to increase their relative consumption of e-books with the years__. However, it is mainly from the small to intermediate category. In addition, we observe that the number of __users reducing their Kindle consumption is relatively more important for the two last years__ transition. It could induce a resignation of the platform or a lesser interest for the support."
   ]
  },
  {
   "cell_type": "markdown",
   "metadata": {},
   "source": [
    "### 1.6 User sentiment towards the Kindle\n",
    "\n",
    "As we observed in part 1.5, users seem to be less appealed to Kindle in proportion to classical books in the last years of the analysis. In order to have another point of view reagarding this matter, we analyze the other important component of the ratings i.e. the numerical grade in the range [1,5]. We decide to aggregate it per year, as the average difference in grades per user for the e-books minus the books rating grade. We compute this difference as a relative differenced normed by the maximal grade difference (i.e. $5-1=4$).\n",
    "\n",
    "$$yearly\\ difference\\ percentage = \\frac{\\textrm{AVG}_{year}(\\textrm{AVG}_{month,user}(ebooks\\ ratings) - \\textrm{AVG}_{month,user}(books\\ ratings))}{4}$$"
   ]
  },
  {
   "cell_type": "code",
   "execution_count": 511,
   "metadata": {},
   "outputs": [
    {
     "name": "stdout",
     "output_type": "stream",
     "text": [
      "+----+----------------------------------------------------+\n",
      "|Year|ebooks_rating_and_books_rating_difference_percentage|\n",
      "+----+----------------------------------------------------+\n",
      "|2008|                                -0.02450636032484...|\n",
      "|2009|                                -0.01518851117459626|\n",
      "|2010|                                -0.02020867969376...|\n",
      "|2011|                                -0.02172955927016...|\n",
      "|2012|                                -0.02194209314288...|\n",
      "|2013|                                -0.02455211950487068|\n",
      "|2014|                                -0.01798652640966...|\n",
      "+----+----------------------------------------------------+\n",
      "\n"
     ]
    }
   ],
   "source": [
    "rating_diff = spark.sql(\"\"\"SELECT Year,  AVG(diff)/4.0 AS ebooks_rating_and_books_rating_difference_percentage\n",
    "            FROM\n",
    "            (SELECT User,\n",
    "                    Year,\n",
    "                    AVG(avg_kindle_rating) -\n",
    "                    AVG(avg_book_rating) AS diff\n",
    "             FROM kindle_proportion_time_factors\n",
    "             WHERE avg_kindle_rating > 0 AND avg_book_rating > 0\n",
    "             GROUP BY User, Year)\n",
    "             GROUP BY Year\n",
    "             ORDER BY Year\"\"\")\n",
    "rating_diff.show()"
   ]
  },
  {
   "cell_type": "markdown",
   "metadata": {},
   "source": [
    "We observe that the __relative rating difference is not very marked__ (between 1.5% to 2.5%). Nonetheless, this bias is consistent given the years. This leads us to the second part of the project which consists of the user sentiment analysis in the reviews of the Kindle."
   ]
  },
  {
   "cell_type": "markdown",
   "metadata": {},
   "source": [
    "## Part 2 - Review texts analysis\n",
    "\n",
    "In order to make a more insightful analysis of the user opinion of the Kindle platform, we decide to use natural language processing techniques on the set of reviews. However, we desire to focus on the effect of the platform itself and not on the possible influence that the read book has on the review. We proceed in the following manner.\n",
    "\n",
    "1) We first use a Latent Dirichlet allocation (LDA) to determine if a \"technical\" Kindle topic is present in the reviews of the e-books. More precisely, we are looking for words such as \"format\", \"screen\", \"interactivity\", etc.\n",
    "\n",
    "2) We use a TF-IDF word weighting metric to validate that the words constituing the corpus of the technical topics are indeed more present in the e-books reviews corpus. \n",
    "\n",
    "3) Eventually, we use TextBlob to analyze the sentiment of reviews which contain the words of the technical topic and compare the results to those of the reviews missing these terms."
   ]
  },
  {
   "cell_type": "markdown",
   "metadata": {},
   "source": [
    "### 2.1 Latent Dirichlet allocation"
   ]
  },
  {
   "cell_type": "markdown",
   "metadata": {},
   "source": [
    "### 2.1.1 Loading stemmed corpus"
   ]
  },
  {
   "cell_type": "markdown",
   "metadata": {},
   "source": [
    "First, we load the corpus of previously stemmed reviews. Stemming will prevent us from getting noise in our analysis from words having the same stem but being considered as different words (eg. wait, waited, waiting, ...).\n",
    "\n",
    "Unfortunately, for various performance reasons and to be able to perform all computations in a reasonable amount of time, we first limit ourselves to a corpus of 50k reviews."
   ]
  },
  {
   "cell_type": "code",
   "execution_count": 2,
   "metadata": {},
   "outputs": [],
   "source": [
    "def get_rdd(filename, max_size = None):\n",
    "    df = spark.read.parquet(DATA_FOLDER + filename)\n",
    "    rdd = df.rdd.zipWithIndex().map(lambda r: (r[1], r[0][\"Words\"]))\n",
    "    return rdd if max_size == None else sc.parallelize(rdd.take(max_size))"
   ]
  },
  {
   "cell_type": "code",
   "execution_count": 3,
   "metadata": {},
   "outputs": [],
   "source": [
    "RDD_FILENAME = \"stemstem.parquet\"\n",
    "rdd = get_rdd(RDD_FILENAME, max_size = 50000)"
   ]
  },
  {
   "cell_type": "markdown",
   "metadata": {},
   "source": [
    "### 2.1.2 Preparing the data"
   ]
  },
  {
   "cell_type": "markdown",
   "metadata": {},
   "source": [
    "In order to use the `LDAModels` provided by `pyspark`, we need to shape the data. More precisely, we need to compute the number of occurrences of each term in each review. This is the purpose of the function `count_words` below:"
   ]
  },
  {
   "cell_type": "code",
   "execution_count": 4,
   "metadata": {},
   "outputs": [],
   "source": [
    "def count_words(rdd):\n",
    "    def word_occurrences(l):\n",
    "        counter = dict(Counter(l))\n",
    "        return list(zip(counter.keys(), counter.values()))\n",
    "    \n",
    "    return rdd.mapValues(word_occurrences)"
   ]
  },
  {
   "cell_type": "markdown",
   "metadata": {},
   "source": [
    "Next, we establish the set of all words present in our reviews. This is done in the `wordify` function below. `words` is constructed from iteratively taking the union of the set of words of each review. Finally, we assign to each word an unique integer index. This is going to be useful later..."
   ]
  },
  {
   "cell_type": "code",
   "execution_count": 5,
   "metadata": {},
   "outputs": [],
   "source": [
    "def wordify(rdd):\n",
    "    words = list(rdd.map(lambda p: set(p[1])).reduce(lambda x, y: x | y))\n",
    "    return dict([(words[i], i) for i in range(len(words))])"
   ]
  },
  {
   "cell_type": "markdown",
   "metadata": {},
   "source": [
    "The last step of data preparation is to map the review of each entry of `rdd` to a vector of size `len(words)` containing at index $i$ the number of occurrences of word $i$. Since each review contains only a small subset of all possible words, we naturally choose a `SparseVector` instance for obvious performance reasons."
   ]
  },
  {
   "cell_type": "code",
   "execution_count": 6,
   "metadata": {},
   "outputs": [],
   "source": [
    "def LDAify(rdd, words):\n",
    "    return rdd.mapValues(lambda l: [(words[w], occurrences) for (w, occurrences) in l]).mapValues(lambda l: Vectors.sparse(len(words), dict(l))).map(lambda p: list(p))"
   ]
  },
  {
   "cell_type": "markdown",
   "metadata": {},
   "source": [
    "Words can be computed in the following manner: `words = wordify(rdd)`. Nevertheless, since this computation is quite time consuming, we decided to do it once for all and to store the result in Pickle file. Hence, we load the dictionary as follows:"
   ]
  },
  {
   "cell_type": "code",
   "execution_count": 7,
   "metadata": {},
   "outputs": [],
   "source": [
    "words = {}\n",
    "with open(RESULTS_FOLDER + \"words_lda.pickle\", 'rb') as handle:\n",
    "    words = pkl.load(handle)"
   ]
  },
  {
   "cell_type": "markdown",
   "metadata": {},
   "source": [
    "Moreover, we create the data matrix X:"
   ]
  },
  {
   "cell_type": "code",
   "execution_count": 8,
   "metadata": {},
   "outputs": [],
   "source": [
    "X = LDAify(count_words(rdd), words)"
   ]
  },
  {
   "cell_type": "markdown",
   "metadata": {},
   "source": [
    "### 2.1.3 Core LDA analysis"
   ]
  },
  {
   "cell_type": "markdown",
   "metadata": {},
   "source": [
    "LDA's `describeTopics()` method returns a list of `k` topics assigning to each one a word distribution. However, here words indices are used and not words themselves. Therefore, we implement the following `format_terms` function to help us retrieving a word from its index in `words`."
   ]
  },
  {
   "cell_type": "code",
   "execution_count": 9,
   "metadata": {},
   "outputs": [],
   "source": [
    "def format_terms(indices, weights):\n",
    "    words_list = list(words)\n",
    "    return [(words_list[index], weights[i]) for (i, index) in enumerate(indices)]"
   ]
  },
  {
   "cell_type": "markdown",
   "metadata": {},
   "source": [
    "In addition, it's worth noticing that LDA depends on two hyperparameters $\\alpha$ and $\\beta$, describing respectively the document and term distributions. We need to tune those parameters according to our needs and we do this using a simple grid search.\n",
    "\n",
    "This is what the `test_coefs` function below does. Also, it prints the topics created by the LDA so that we can manually evaluate their relevance to find the best values for $\\alpha$ and $\\beta$."
   ]
  },
  {
   "cell_type": "code",
   "execution_count": 10,
   "metadata": {},
   "outputs": [],
   "source": [
    "def test_coefs():\n",
    "    res = []\n",
    "    for alpha in [1.01, 1.5, 2, 3]:\n",
    "        for beta in [1.01, 1.5, 2, 3]:\n",
    "            print(\"alpha = \" + str(alpha) + \" / beta = \" + str(beta))\n",
    "            lda = LDA(k = 10).setFeaturesCol(\"feature\").setMaxIter(100).setOptimizer(\"em\").setDocConcentration([float(alpha)]).setTopicConcentration(float(beta))\n",
    "            X_ = X.toDF([\"id\", \"feature\"])\n",
    "            model = lda.fit(X_)\n",
    "            res += [model.describeTopics().rdd.map(lambda r: (r[0], format_terms(r[1], r[2]))).take(10)]\n",
    "    \n",
    "    interesting_indices = []\n",
    "    for i in range(4):\n",
    "        for j in range(4):\n",
    "            for k, (_, words) in enumerate(res[4*i + j]):\n",
    "                if \"kindl\" in list(map(lambda p: p[0], words)):\n",
    "                    interesting_indices.append((4*i+j, k))"
   ]
  },
  {
   "cell_type": "code",
   "execution_count": 11,
   "metadata": {},
   "outputs": [],
   "source": [
    "# Chosen from above\n",
    "alpha = 2\n",
    "beta = 1.5"
   ]
  },
  {
   "cell_type": "markdown",
   "metadata": {},
   "source": [
    "Again, training a LDA model is quite time consuming. Therefore, we saved the model for the values $\\alpha = 1$ and $\\beta = 1.5$ in a Parquet file. Retrieving the model can be done as such:"
   ]
  },
  {
   "cell_type": "code",
   "execution_count": 12,
   "metadata": {},
   "outputs": [],
   "source": [
    "best_model = DistributedLDAModel.load(RESULTS_FOLDER + \"kindle_lda_model.parquet\")"
   ]
  },
  {
   "cell_type": "markdown",
   "metadata": {},
   "source": [
    "### 2.1.3 Topics extraction"
   ]
  },
  {
   "cell_type": "code",
   "execution_count": 13,
   "metadata": {},
   "outputs": [
    {
     "name": "stdout",
     "output_type": "stream",
     "text": [
      "Topic 1\n",
      "    review: 1.669342772819849%\n",
      "    relationship: 1.227819401281716%\n",
      "    togeth: 1.1226048807265143%\n",
      "    into: 0.9942960889184277%\n",
      "    onli: 0.9100196149317308%\n",
      "    sexi: 0.8871170059162949%\n",
      "    she': 0.8252354260346444%\n",
      "    doesn't: 0.7530020812918945%\n",
      "    romanc: 0.7046308878346287%\n",
      "    passion: 0.5523344025810424%\n",
      "\n",
      "Topic 2\n",
      "    novel: 3.416132220056701%\n",
      "    mysteri: 3.056578227312123%\n",
      "    twist: 2.247111886674283%\n",
      "    suspens: 1.6679165260551003%\n",
      "    excel: 1.6058436532190203%\n",
      "    fiction: 1.342177967207062%\n",
      "    adventur: 1.2226281607025942%\n",
      "    murder: 1.1559497799029421%\n",
      "    humor: 1.138142625814316%\n",
      "    action: 0.9842488594565195%\n",
      "\n",
      "Topic 3\n",
      "    seri: 7.396401356429165%\n",
      "    becaus: 5.167379252584321%\n",
      "    author: 4.1938369866492335%\n",
      "    didn't: 3.359057931263465%\n",
      "    definit: 2.6682958127516434%\n",
      "    anoth: 1.8695779456988404%\n",
      "    onli: 1.6990315579187822%\n",
      "    couldn't: 1.6985199654105725%\n",
      "    wasn't: 1.6225247585990297%\n",
      "    disappoint: 1.4891925098047047%\n",
      "\n",
      "Topic 4\n",
      "    stori: 24.13733218636862%\n",
      "    veri: 13.017869695957318%\n",
      "    enjoy: 10.444317898409237%\n",
      "    realli: 9.958972710773846%\n",
      "    recommend: 5.357020154731531%\n",
      "    littl: 4.765993762500799%\n",
      "    nice: 2.193206484147389%\n",
      "    highli: 1.973553738057103%\n",
      "    anyon: 1.497580712747966%\n",
      "    funni: 1.2131688413462027%\n",
      "\n",
      "Topic 5\n",
      "    famili: 2.5475465671776814%\n",
      "    everi: 2.478906673827554%\n",
      "    alway: 2.4575039233391562%\n",
      "    peopl: 2.2524309454613447%\n",
      "    happi: 1.3430531129595868%\n",
      "    everyon: 1.2906349338901972%\n",
      "    beauti: 1.260775663027364%\n",
      "    away: 1.2437774689471053%\n",
      "    emot: 1.1176326825589522%\n",
      "    someon: 1.0368597686157324%\n",
      "\n",
      "Topic 6\n",
      "    kindl: 3.4851631644532497%\n",
      "    easi: 3.1347912851666506%\n",
      "    worth: 2.2031098890168312%\n",
      "    inform: 2.101707277234647%\n",
      "    recip: 1.4500934092009663%\n",
      "    edit: 1.2264422253445908%\n",
      "    purchas: 1.1451439387904845%\n",
      "    simpl: 1.1191543504478274%\n",
      "    price: 1.0908632820561763%\n",
      "    error: 0.907890172640072%\n",
      "\n",
      "Topic 7\n",
      "    vampir: 1.1504778828937832%\n",
      "    magic: 0.993768653922828%\n",
      "    onli: 0.9475194464188865%\n",
      "    tale: 0.9119911057497841%\n",
      "    into: 0.7379412586360928%\n",
      "    becom: 0.6391268411779106%\n",
      "    evil: 0.6035439353139294%\n",
      "    dragon: 0.5272237515241361%\n",
      "    discov: 0.527087217235157%\n",
      "    forc: 0.520361319889943%\n",
      "\n",
      "Topic 8\n",
      "    charact: 7.916609945957475%\n",
      "    stori: 3.594943391212361%\n",
      "    reader: 2.3783095049921688%\n",
      "    into: 2.098875026784556%\n",
      "    author: 1.9831345959347724%\n",
      "    plot: 1.8636880414413062%\n",
      "    romanc: 1.6224680971677397%\n",
      "    scene: 1.1354941044048612%\n",
      "    origin: 1.0590461834987939%\n",
      "    review: 0.9305601102007053%\n",
      "\n",
      "Topic 9\n",
      "    mani: 1.393466337031174%\n",
      "    author: 1.2858657692254476%\n",
      "    understand: 1.1108965844667746%\n",
      "    peopl: 0.8453844245874245%\n",
      "    histori: 0.7528662945217954%\n",
      "    experi: 0.7524499625790269%\n",
      "    provid: 0.6337621058969057%\n",
      "    import: 0.6065805632512865%\n",
      "    explain: 0.5723827834142591%\n",
      "    into: 0.5668916533328499%\n",
      "\n",
      "Topic 10\n",
      "    can't: 10.611228797169789%\n",
      "    amaz: 4.718290448975991%\n",
      "    excit: 3.380731389981123%\n",
      "    awesom: 2.9894766053689388%\n",
      "    jack: 1.865220437126645%\n",
      "    zombi: 1.0136067964718347%\n",
      "    david: 0.9745608895211382%\n",
      "    super: 0.9134112272977353%\n",
      "    till: 0.6307585033674608%\n",
      "    chri: 0.6198056802175024%\n",
      "\n"
     ]
    }
   ],
   "source": [
    "def print_topics(model, dictionary):\n",
    "    words_list = list(dictionary)\n",
    "    for i, words in model.describeTopics(10).rdd.map(lambda r: (r[0], (zip(r[1], r[2])))).groupByKey().sortByKey().collect():\n",
    "        print(\"Topic \" + str(i+1))\n",
    "        for word_indices in words:\n",
    "            for word, per in (map(lambda w: (words_list[w[0]], w[1]), word_indices)):\n",
    "                print(\"    \" + word + \": \" + str(100*per) + \"%\")\n",
    "        print()\n",
    "\n",
    "print_topics(best_model, words)"
   ]
  },
  {
   "cell_type": "markdown",
   "metadata": {},
   "source": [
    "From the topics displayed above, we note that a large number of them seem related to specific genres that we might find in books. For example, the topic containing \"relationship\", \"together\", \"sexi\", \"romanc\", \"passion\" may be a genre that we could call \"Love & Romance\".\n",
    "\n",
    "However, __a specific topic has retained our whole attention. It is topic number 6, essentially containing words that are really specific to Kindle features__."
   ]
  },
  {
   "cell_type": "markdown",
   "metadata": {},
   "source": [
    "### 2.2 TF-IDF"
   ]
  },
  {
   "cell_type": "markdown",
   "metadata": {},
   "source": [
    "We know from the LDA analysis above that users talk about the Kindle and its technology in their reviews. Now we wish to target those reviews. For this, we need to extract their specific words.\n",
    "\n",
    "In order to achieve this, we will use the TF-IDF method, allowing us to extract words specific to the Kindle reviews and we will keep only the ones which are related to technology or the Kindle in general.\n",
    "\n",
    "The code and experiments to extract the words are located in `tfidf.py`. The recovery of the words was a laborious task, we extracted the 100 most specific words which appears once every $10^6$ reviews, then once every $10^5$ reviews and so on until the words that appear once every $10^3$ reviews. Hence we are not going to display the full detail of this analysis, but rather the results we found."
   ]
  },
  {
   "cell_type": "code",
   "execution_count": null,
   "metadata": {},
   "outputs": [],
   "source": [
    "# Hardcoded results in a dictionary\n",
    "words = [\"charger\", \"paperwhit\", \"headphone\", \"warranti\", \"e-ink\", \"well-format\",\\\n",
    "         \"recharge\", \"tablet\", \"kindl\", \"ebook\", \"e-read\",\\\n",
    "          \"download\", \"screen\", \"device\", \"easi\", \"complaint\", \"price\", \\\n",
    "          \"disappoint\", \"worth\", \"recommend\", \"hate\"]\n",
    "values = [1.965, 1.940, 1.883, 1.877, 1.777, 1.775, 1.600, 1.587, 1.574, 1.551, 1.535, \\\n",
    "          1.460, 1.437, 1.324, 1.312, 1.307, 1.289, 1.280, 1.260, 1.241, 1.187]\n",
    "df_total = pd.DataFrame({\"Words\" : words, \"TF-IDF values\" : values})\n",
    "len(words)"
   ]
  },
  {
   "cell_type": "markdown",
   "metadata": {},
   "source": [
    "We found a nice gradient of colors on http://colorbrewer2.org/#type=sequential&scheme=PuBuGn&n=4 that allows us to display our results in a nice fashion.\n",
    "\n",
    "Then we will display the results on two rows for the sake of readibility."
   ]
  },
  {
   "cell_type": "code",
   "execution_count": 584,
   "metadata": {},
   "outputs": [],
   "source": [
    "def highlighting(s):\n",
    "    e = s[0]\n",
    "    if e < 1.2:\n",
    "        return ['background-color: #d7191c']\n",
    "    elif e < 1.4:\n",
    "        return ['background-color: #fdae61']\n",
    "    elif e < 1.6:\n",
    "        return ['background-color: #ffffbf']\n",
    "    elif e < 1.8:\n",
    "        return ['background-color: #a6d96a']\n",
    "    else:\n",
    "        return ['background-color: #1a9641']"
   ]
  },
  {
   "cell_type": "code",
   "execution_count": 585,
   "metadata": {},
   "outputs": [
    {
     "data": {
      "text/html": [
       "<style  type=\"text/css\" >\n",
       "    #T_c3bc9d46_00a1_11e9_bcb5_985aeb8c6e7crow0_col0 {\n",
       "            background-color:  #1a9641;\n",
       "        }    #T_c3bc9d46_00a1_11e9_bcb5_985aeb8c6e7crow0_col1 {\n",
       "            background-color:  #1a9641;\n",
       "        }    #T_c3bc9d46_00a1_11e9_bcb5_985aeb8c6e7crow0_col2 {\n",
       "            background-color:  #1a9641;\n",
       "        }    #T_c3bc9d46_00a1_11e9_bcb5_985aeb8c6e7crow0_col3 {\n",
       "            background-color:  #1a9641;\n",
       "        }    #T_c3bc9d46_00a1_11e9_bcb5_985aeb8c6e7crow0_col4 {\n",
       "            background-color:  #a6d96a;\n",
       "        }    #T_c3bc9d46_00a1_11e9_bcb5_985aeb8c6e7crow0_col5 {\n",
       "            background-color:  #a6d96a;\n",
       "        }    #T_c3bc9d46_00a1_11e9_bcb5_985aeb8c6e7crow0_col6 {\n",
       "            background-color:  #a6d96a;\n",
       "        }    #T_c3bc9d46_00a1_11e9_bcb5_985aeb8c6e7crow0_col7 {\n",
       "            background-color:  #ffffbf;\n",
       "        }    #T_c3bc9d46_00a1_11e9_bcb5_985aeb8c6e7crow0_col8 {\n",
       "            background-color:  #ffffbf;\n",
       "        }    #T_c3bc9d46_00a1_11e9_bcb5_985aeb8c6e7crow0_col9 {\n",
       "            background-color:  #ffffbf;\n",
       "        }    #T_c3bc9d46_00a1_11e9_bcb5_985aeb8c6e7crow0_col10 {\n",
       "            background-color:  #ffffbf;\n",
       "        }</style>  \n",
       "<table id=\"T_c3bc9d46_00a1_11e9_bcb5_985aeb8c6e7c\" > \n",
       "<thead>    <tr> \n",
       "        <th class=\"blank level0\" ></th> \n",
       "        <th class=\"col_heading level0 col0\" >charger</th> \n",
       "        <th class=\"col_heading level0 col1\" >paperwhit</th> \n",
       "        <th class=\"col_heading level0 col2\" >headphone</th> \n",
       "        <th class=\"col_heading level0 col3\" >warranti</th> \n",
       "        <th class=\"col_heading level0 col4\" >e-ink</th> \n",
       "        <th class=\"col_heading level0 col5\" >well-format</th> \n",
       "        <th class=\"col_heading level0 col6\" >recharge</th> \n",
       "        <th class=\"col_heading level0 col7\" >tablet</th> \n",
       "        <th class=\"col_heading level0 col8\" >kindl</th> \n",
       "        <th class=\"col_heading level0 col9\" >ebook</th> \n",
       "        <th class=\"col_heading level0 col10\" >e-read</th> \n",
       "    </tr></thead> \n",
       "<tbody>    <tr> \n",
       "        <th id=\"T_c3bc9d46_00a1_11e9_bcb5_985aeb8c6e7clevel0_row0\" class=\"row_heading level0 row0\" >0</th> \n",
       "        <td id=\"T_c3bc9d46_00a1_11e9_bcb5_985aeb8c6e7crow0_col0\" class=\"data row0 col0\" >1.965</td> \n",
       "        <td id=\"T_c3bc9d46_00a1_11e9_bcb5_985aeb8c6e7crow0_col1\" class=\"data row0 col1\" >1.94</td> \n",
       "        <td id=\"T_c3bc9d46_00a1_11e9_bcb5_985aeb8c6e7crow0_col2\" class=\"data row0 col2\" >1.883</td> \n",
       "        <td id=\"T_c3bc9d46_00a1_11e9_bcb5_985aeb8c6e7crow0_col3\" class=\"data row0 col3\" >1.877</td> \n",
       "        <td id=\"T_c3bc9d46_00a1_11e9_bcb5_985aeb8c6e7crow0_col4\" class=\"data row0 col4\" >1.777</td> \n",
       "        <td id=\"T_c3bc9d46_00a1_11e9_bcb5_985aeb8c6e7crow0_col5\" class=\"data row0 col5\" >1.775</td> \n",
       "        <td id=\"T_c3bc9d46_00a1_11e9_bcb5_985aeb8c6e7crow0_col6\" class=\"data row0 col6\" >1.6</td> \n",
       "        <td id=\"T_c3bc9d46_00a1_11e9_bcb5_985aeb8c6e7crow0_col7\" class=\"data row0 col7\" >1.587</td> \n",
       "        <td id=\"T_c3bc9d46_00a1_11e9_bcb5_985aeb8c6e7crow0_col8\" class=\"data row0 col8\" >1.574</td> \n",
       "        <td id=\"T_c3bc9d46_00a1_11e9_bcb5_985aeb8c6e7crow0_col9\" class=\"data row0 col9\" >1.551</td> \n",
       "        <td id=\"T_c3bc9d46_00a1_11e9_bcb5_985aeb8c6e7crow0_col10\" class=\"data row0 col10\" >1.535</td> \n",
       "    </tr></tbody> \n",
       "</table> "
      ],
      "text/plain": [
       "<pandas.io.formats.style.Styler at 0x1a2ce05438>"
      ]
     },
     "execution_count": 585,
     "metadata": {},
     "output_type": "execute_result"
    }
   ],
   "source": [
    "dict_ = {}\n",
    "for i in range(11):\n",
    "    dict_[words[i]] = [values[i]]\n",
    "df_dict = pd.DataFrame(dict_)\n",
    "df_dict.style.apply(highlighting)"
   ]
  },
  {
   "cell_type": "code",
   "execution_count": 586,
   "metadata": {},
   "outputs": [
    {
     "data": {
      "text/html": [
       "<style  type=\"text/css\" >\n",
       "    #T_c44d2226_00a1_11e9_a960_985aeb8c6e7crow0_col0 {\n",
       "            background-color:  #ffffbf;\n",
       "        }    #T_c44d2226_00a1_11e9_a960_985aeb8c6e7crow0_col1 {\n",
       "            background-color:  #ffffbf;\n",
       "        }    #T_c44d2226_00a1_11e9_a960_985aeb8c6e7crow0_col2 {\n",
       "            background-color:  #fdae61;\n",
       "        }    #T_c44d2226_00a1_11e9_a960_985aeb8c6e7crow0_col3 {\n",
       "            background-color:  #fdae61;\n",
       "        }    #T_c44d2226_00a1_11e9_a960_985aeb8c6e7crow0_col4 {\n",
       "            background-color:  #fdae61;\n",
       "        }    #T_c44d2226_00a1_11e9_a960_985aeb8c6e7crow0_col5 {\n",
       "            background-color:  #fdae61;\n",
       "        }    #T_c44d2226_00a1_11e9_a960_985aeb8c6e7crow0_col6 {\n",
       "            background-color:  #fdae61;\n",
       "        }    #T_c44d2226_00a1_11e9_a960_985aeb8c6e7crow0_col7 {\n",
       "            background-color:  #fdae61;\n",
       "        }    #T_c44d2226_00a1_11e9_a960_985aeb8c6e7crow0_col8 {\n",
       "            background-color:  #fdae61;\n",
       "        }    #T_c44d2226_00a1_11e9_a960_985aeb8c6e7crow0_col9 {\n",
       "            background-color:  #d7191c;\n",
       "        }</style>  \n",
       "<table id=\"T_c44d2226_00a1_11e9_a960_985aeb8c6e7c\" > \n",
       "<thead>    <tr> \n",
       "        <th class=\"blank level0\" ></th> \n",
       "        <th class=\"col_heading level0 col0\" >download</th> \n",
       "        <th class=\"col_heading level0 col1\" >screen</th> \n",
       "        <th class=\"col_heading level0 col2\" >device</th> \n",
       "        <th class=\"col_heading level0 col3\" >easi</th> \n",
       "        <th class=\"col_heading level0 col4\" >complaint</th> \n",
       "        <th class=\"col_heading level0 col5\" >price</th> \n",
       "        <th class=\"col_heading level0 col6\" >disappoint</th> \n",
       "        <th class=\"col_heading level0 col7\" >worth</th> \n",
       "        <th class=\"col_heading level0 col8\" >recommend</th> \n",
       "        <th class=\"col_heading level0 col9\" >hate</th> \n",
       "    </tr></thead> \n",
       "<tbody>    <tr> \n",
       "        <th id=\"T_c44d2226_00a1_11e9_a960_985aeb8c6e7clevel0_row0\" class=\"row_heading level0 row0\" >0</th> \n",
       "        <td id=\"T_c44d2226_00a1_11e9_a960_985aeb8c6e7crow0_col0\" class=\"data row0 col0\" >1.46</td> \n",
       "        <td id=\"T_c44d2226_00a1_11e9_a960_985aeb8c6e7crow0_col1\" class=\"data row0 col1\" >1.437</td> \n",
       "        <td id=\"T_c44d2226_00a1_11e9_a960_985aeb8c6e7crow0_col2\" class=\"data row0 col2\" >1.324</td> \n",
       "        <td id=\"T_c44d2226_00a1_11e9_a960_985aeb8c6e7crow0_col3\" class=\"data row0 col3\" >1.312</td> \n",
       "        <td id=\"T_c44d2226_00a1_11e9_a960_985aeb8c6e7crow0_col4\" class=\"data row0 col4\" >1.307</td> \n",
       "        <td id=\"T_c44d2226_00a1_11e9_a960_985aeb8c6e7crow0_col5\" class=\"data row0 col5\" >1.289</td> \n",
       "        <td id=\"T_c44d2226_00a1_11e9_a960_985aeb8c6e7crow0_col6\" class=\"data row0 col6\" >1.28</td> \n",
       "        <td id=\"T_c44d2226_00a1_11e9_a960_985aeb8c6e7crow0_col7\" class=\"data row0 col7\" >1.26</td> \n",
       "        <td id=\"T_c44d2226_00a1_11e9_a960_985aeb8c6e7crow0_col8\" class=\"data row0 col8\" >1.241</td> \n",
       "        <td id=\"T_c44d2226_00a1_11e9_a960_985aeb8c6e7crow0_col9\" class=\"data row0 col9\" >1.187</td> \n",
       "    </tr></tbody> \n",
       "</table> "
      ],
      "text/plain": [
       "<pandas.io.formats.style.Styler at 0x1a2e710780>"
      ]
     },
     "execution_count": 586,
     "metadata": {},
     "output_type": "execute_result"
    }
   ],
   "source": [
    "dict2_ = {}\n",
    "for i in range(11, len(words)):\n",
    "    dict2_[words[i]] = [values[i]]\n",
    "df_dict2 = pd.DataFrame(dict2_)\n",
    "df_dict2.style.apply(highlighting)"
   ]
  },
  {
   "cell_type": "markdown",
   "metadata": {},
   "source": [
    "Thanks to this analysis, we are able to target Kindle-specific words which are about technology. In the results displayed, a color and a number is associated to each word. A color close to green and a number close to 2 denotes a very specific word, i.e a number that appears twice more often in the Kindle corpus than in the Books one. At the other side of the gradient, a color close to red and a value close to one denotes a not very specific word. A word with a value of 1 appears exactly the same number of times in the two corpuses.\n",
    "\n",
    "Those words will help us target the technology-specific reviews about the Kindle in the next step of our analysis."
   ]
  },
  {
   "cell_type": "markdown",
   "metadata": {},
   "source": [
    "### 2.3 Sentiment analysis using TextBlob"
   ]
  },
  {
   "cell_type": "markdown",
   "metadata": {},
   "source": [
    "From the two previous steps, we were able to determine that there was a meaningful technical topic in the Kindle reviews. We now proceed to a sentiment analysis with the help of the TextBlob library which yields results in the range [-1,1] given a piece of text, where -1 being extremly negative sentiment, 1 very positive and 0 neutral. We perform the analysis on the set of reviews for the frequent readers from part 1 to keep a consistency throughout the project. We split the dataset into technical and non-technical reviews depending on whether the review text contains words from the previously defined technical topic dictionary."
   ]
  },
  {
   "cell_type": "code",
   "execution_count": 553,
   "metadata": {},
   "outputs": [],
   "source": [
    "#Loading of the reduced kindle reviews corresponding to the reviews left by the frequent books and ebooks readers population\n",
    "df_reduced_reviews_kindle = spark.read.parquet(RESULT_FOLDER+'kindle_reduced_review_year.parquet')\n",
    "df_reduced_reviews_kindle.registerTempTable(\"df_reduced_reviews_kindle\")"
   ]
  },
  {
   "cell_type": "code",
   "execution_count": 193,
   "metadata": {},
   "outputs": [],
   "source": [
    "#Defintion of the technical dictionnary\n",
    "dictionary = ['kindl',\n",
    "              'inform',\n",
    "              'easi',\n",
    "              'worth',\n",
    "              'purchas',\n",
    "              'chapter',\n",
    "              'price',\n",
    "              'edit',\n",
    "              'writer',\n",
    "              'error',\n",
    "              'ebook',\n",
    "              'easi',\n",
    "              'version',\n",
    "              'e-ink',\n",
    "              'well-format',\n",
    "              'e-read',\n",
    "              'screen',\n",
    "              'device',\n",
    "              'complaint',\n",
    "              'display',\n",
    "              'layout',\n",
    "              'format',\n",
    "              'annot',\n",
    "              'interactiv']\n"
   ]
  },
  {
   "cell_type": "markdown",
   "metadata": {},
   "source": [
    "We decide to use SnowballStemmer this time because it has the advantage to take as parameter a language which improves on the quality of the stemming."
   ]
  },
  {
   "cell_type": "code",
   "execution_count": null,
   "metadata": {},
   "outputs": [],
   "source": [
    "stemmer = SnowballStemmer(\"english\")"
   ]
  },
  {
   "cell_type": "code",
   "execution_count": 557,
   "metadata": {},
   "outputs": [],
   "source": [
    "#We stem, then filter reviews to keep only those that contains a word present in the dictionnary. Eventually we join the\n",
    "#stemmed words constituing the reviews into a sentence from which we quantify the sentiment with TextBlob\n",
    "df_kindle_filtered = df_reduced_reviews_kindle.rdd.map(lambda row: (row.year, row.reviewText.split(\" \"))).map(lambda row: (row[0],[stemmer.stem(word) for word in row[1]])).filter(lambda row: any(word in row[1] for word in dictionary)).map(lambda row: (row[0], \" \".join(row[1]))).toDF()\n",
    "df_kindle_filtered.write.parquet(RESULT_FOLDER+\"kindle_reviews_textblob.parquet\")\n",
    "df_kindle_filtered = spark.read.parquet(RESULT_FOLDER+\"kindle_reviews_textblob.parquet\")\n",
    "df_kindle_filtered.registerTempTable(\"df_kindle_filtered\")"
   ]
  },
  {
   "cell_type": "code",
   "execution_count": 560,
   "metadata": {},
   "outputs": [],
   "source": [
    "#We do the same process as explained above but on the reviews that do not contain a technical aspect in their words\n",
    "df_reviews_stemmed = df_reviews_kindle.rdd.map(lambda row: (row.year, row.reviewText.split(\" \"))).map(lambda row: (row[0],[stemmer.stem(word) for word in row[1]])).map(lambda row: (row[0], \" \".join(row[1]))).toDF()\n",
    "df_reviews_stemmed.registerTempTable(\"df_reviews_stemmed\")\n",
    "df_difference_reviews = spark.sql(\"\"\"(SELECT * \n",
    "                                      FROM df_reviews_stemmed)\n",
    "                                      MINUS\n",
    "                                      (SELECT _2 AS reviewText, _1 AS year\n",
    "                                      FROM df_kindle_filtered)\"\"\")\n",
    "\n",
    "df_difference_reviews.write.parquet(RESULT_FOLDER+\"kindle_difference_reviews_filtered.parquet\")\n",
    "df_difference_reviews = spark.read.parquet(RESULT_FOLDER+\"kindle_difference_reviews_filtered.parquet\")\n",
    "df_blob = df_kindle_filtered.rdd.map(lambda row: (row._1,TextBlob(row._2).sentiment.polarity)).toDF()\n",
    "df_blob_difference = df_difference_reviews.rdd.map(lambda row: (row._1,TextBlob(row._2).sentiment.polarity)).toDF()"
   ]
  },
  {
   "cell_type": "code",
   "execution_count": 561,
   "metadata": {},
   "outputs": [],
   "source": [
    "#Registration of tables for SQL queries\n",
    "df_blob.registerTempTable(\"df_blob\")\n",
    "df_blob_difference.registerTempTable(\"df_blob_difference\")"
   ]
  },
  {
   "cell_type": "code",
   "execution_count": 581,
   "metadata": {},
   "outputs": [
    {
     "name": "stdout",
     "output_type": "stream",
     "text": [
      "+----+-------------------+-------------------+--------------+\n",
      "|Year|            average|                std|number_reviews|\n",
      "+----+-------------------+-------------------+--------------+\n",
      "|2008|0.19170204075339695|0.13930735327609967|           162|\n",
      "|2009|0.19735687523836762|0.17213023912167863|           349|\n",
      "|2010| 0.1832341597207311|  0.135431797834834|          1464|\n",
      "|2011|0.18609293900605972|0.13969769121661657|          8424|\n",
      "|2012|0.20783973016559112|0.17055396160778094|         36739|\n",
      "|2013|0.22910094529968664|0.19675157240674276|        101647|\n",
      "|2014|0.23284503606947587|0.19219510432923484|         92805|\n",
      "+----+-------------------+-------------------+--------------+\n",
      "\n"
     ]
    }
   ],
   "source": [
    "#Techincal reviews TextBlob stats\n",
    "df_blob_stat = spark.sql(\"\"\"SELECT _1 AS Year, AVG(_2) as average, STD(_2) AS std, COUNT(_2) AS number_reviews\n",
    "             FROM df_blob\n",
    "             GROUP BY Year\n",
    "             ORDER BY Year\n",
    "             \"\"\")\n",
    "df_blob_stat.show()"
   ]
  },
  {
   "cell_type": "code",
   "execution_count": 582,
   "metadata": {},
   "outputs": [
    {
     "name": "stdout",
     "output_type": "stream",
     "text": [
      "+----+-------------------+-------------------+--------------+\n",
      "|Year|            average|                std|number_reviews|\n",
      "+----+-------------------+-------------------+--------------+\n",
      "|2008|0.21131292414251338|0.15271562128145633|           575|\n",
      "|2009|0.20178328012244898|0.15777446571937237|          1001|\n",
      "|2010| 0.2011067234320961|0.15131877988800102|          4460|\n",
      "|2011|0.19909737987842907| 0.1652592104606844|         24951|\n",
      "|2012|0.22477877980356284| 0.1942601404685062|        121556|\n",
      "|2013| 0.2496009341882106|0.22050814490666107|        449528|\n",
      "|2014| 0.2532085213393239|0.21803204738055204|        428195|\n",
      "+----+-------------------+-------------------+--------------+\n",
      "\n"
     ]
    }
   ],
   "source": [
    "#Non-Techincal reviews TextBlob stats\n",
    "df_blob_difference_stat = spark.sql(\"\"\"SELECT _1 AS Year, AVG(_2) as average, STD(_2) AS std, COUNT(_2) AS number_reviews\n",
    "             FROM df_blob_difference\n",
    "             GROUP BY Year\n",
    "             ORDER BY Year\"\"\")\n",
    "df_blob_difference_stat.show()"
   ]
  },
  {
   "cell_type": "code",
   "execution_count": 588,
   "metadata": {},
   "outputs": [],
   "source": [
    "#df_blob_stats_pandas = df_blob_stat.toPandas()\n",
    "df_blob_difference_stat_pandas = df_blob_difference_stat.toPandas()"
   ]
  },
  {
   "cell_type": "code",
   "execution_count": 589,
   "metadata": {},
   "outputs": [
    {
     "data": {
      "image/png": "[encoded data removed]",
      "text/plain": [
       "<Figure size 864x432 with 1 Axes>"
      ]
     },
     "metadata": {},
     "output_type": "display_data"
    }
   ],
   "source": [
    "#Plotting of the two curves\n",
    "years = df_blob_stats_pandas['Year'].values\n",
    "\n",
    "technical = df_blob_stats_pandas['average'].values\n",
    "non_technical = df_blob_difference_stat_pandas['average'].values\n",
    "\n",
    "fig, ax = plt.subplots()\n",
    "fig.set_size_inches(12, 6)\n",
    "plt.title(\"Average TextBlob sentiment as a function of the year\")\n",
    "ax.plot(years,technical, label='technical aspect present')\n",
    "ax.plot(years,non_technical, label='technical aspect not present')\n",
    "plt.legend()\n",
    "plt.show()"
   ]
  },
  {
   "cell_type": "markdown",
   "metadata": {},
   "source": [
    "We observe that the __reviews containing the technical aspects have consistently a lower average TextBlob score than the non-technical reviews__ which leads us to think that the Kindle support indeed has a negative impact on the user appreciation of the support. However we need to statistically confirm this hypothesis."
   ]
  },
  {
   "cell_type": "markdown",
   "metadata": {},
   "source": [
    "#### 2.4 Statistical validation Tests"
   ]
  },
  {
   "cell_type": "markdown",
   "metadata": {},
   "source": [
    "In this final subpart we perform two statistical tests to check the validity of our previous hypothesis.\n",
    "\n",
    "1) p-values for each year\n",
    "\n",
    "2) t-test for the whole\n",
    "\n",
    "In order to do so, we first plot the relative distribution of the TextBlob scores to ensure that those follow normal distribution, for the tests to be applicable."
   ]
  },
  {
   "cell_type": "code",
   "execution_count": 563,
   "metadata": {},
   "outputs": [],
   "source": [
    "#Conversion to Pandas dataframe of the dataframes\n",
    "df_blob_pandas = df_blob.toPandas()\n",
    "df_blob_difference_pandas = df_blob_difference.toPandas()"
   ]
  },
  {
   "cell_type": "code",
   "execution_count": 575,
   "metadata": {},
   "outputs": [
    {
     "data": {
      "image/png": "[encoded data removed]",
      "text/plain": [
       "<Figure size 1440x720 with 1 Axes>"
      ]
     },
     "metadata": {},
     "output_type": "display_data"
    }
   ],
   "source": [
    "fig = plt.figure()\n",
    "ax = fig.add_subplot(111)\n",
    "n, bins, patches = ax.hist(df_blob_pandas['_2'].values, bins=200,  weights=np.zeros_like(df_blob_pandas['_2'].values) + 1. / df_blob_pandas['_2'].values.size, cumulative=0)\n",
    "ax.set_title(\"Distribution of the TextBlob Sentiment for Kindle Reviews Including Technical Aspect\")\n",
    "ax.set_xlabel('TextBlob Sentiment', size=10)\n",
    "ax.set_ylabel('Frequency', size=10)\n",
    "fig.set_size_inches((20,10))\n",
    "ax.legend\n",
    "\n",
    "plt.show()"
   ]
  },
  {
   "cell_type": "code",
   "execution_count": 576,
   "metadata": {},
   "outputs": [
    {
     "data": {
      "image/png": "[encoded data removed]",
      "text/plain": [
       "<Figure size 1440x720 with 1 Axes>"
      ]
     },
     "metadata": {},
     "output_type": "display_data"
    }
   ],
   "source": [
    "fig = plt.figure()\n",
    "ax = fig.add_subplot(111)\n",
    "n, bins, patches = ax.hist(df_blob_difference_pandas['_2'].values, bins=200,  weights=np.zeros_like(df_blob_difference_pandas['_2'].values) + 1. / df_blob_difference_pandas['_2'].values.size, cumulative=0)\n",
    "ax.set_title(\"Distribution of the TextBlob Sentiment for Kindle Reviews Without Technical Aspect\")\n",
    "ax.set_xlabel('TextBlob Sentiment', size=10)\n",
    "ax.set_ylabel('Frequency', size=10)\n",
    "fig.set_size_inches((20,10))\n",
    "ax.legend\n",
    "\n",
    "plt.show()"
   ]
  },
  {
   "cell_type": "markdown",
   "metadata": {},
   "source": [
    "Excepting some outliers for the value around 0 which concludes to a neutral review and are mostly due to the limitation of the algorithm used by TextBlob, __we confirm that the distributions are Gaussian normal__. We can therefore apply the two tests mentionned above."
   ]
  },
  {
   "cell_type": "markdown",
   "metadata": {},
   "source": [
    "#### 2.4.1 p-value computation\n",
    "\n",
    "Here we remove the dust from the probability and statistics notebooks to compute a precise p-value to evaluate the probability that the sentiment analysis for the technical reviews have the same distribution that the sentiment analysis for the non-technical ones.\n",
    "\n",
    "Let's call $T \\sim \\mathcal{N}(\\mu_T, \\sigma_T)$ the distribution of the sentiment for one technical review and $O \\sim \\mathcal{N}(\\mu_O, \\sigma_O)$ the distribution of the sentiment for one non-technical review.\n",
    "\n",
    "Then we define $A = \\frac{1}{N} \\sum_{i=1}^N T_i \\sim \\mathcal{N}(\\mu_A, \\sigma_A)$.\n",
    "\n",
    "Hence our hypothesis $H_0$ and $H_1$ will be :\n",
    "\n",
    "$H_0$ : $A$ has the same distribution as $O$.\n",
    "\n",
    "$H_1$ : $A$ and $O$ do not have the same distribution.\n",
    "\n",
    "##### Under assumption $H_0$\n",
    "\n",
    "$$\\mu_A = \\frac{1}{N} \\sum_{i=1}^N \\mathbb{E}[T_i] = \\mu_T = \\mu_O$$\n",
    "\n",
    "$$\\sigma_A^2 = \\frac{1}{N^2}\\sum_{i=1}^N Var[T_i] = \\frac{\\sigma_T^2}{N} = \\frac{\\sigma_O^2}{N}$$\n",
    "\n",
    "we then compute the probability that under those assumptions, we obtain a value of $A$ less or equal to the value of $\\mu_T$ we observed.\n",
    "\n",
    "\\begin{align}\n",
    "\\mathbb{P}(A \\leq \\mu_T | H_0) &= 1 - \\mathbb{P}(A > \\mu_T | H_0)\\\\\n",
    "&= 1 - \\mathbb{P}\\left(\\frac{A - \\mu_0}{\\sqrt{\\frac{\\sigma_0^2}{N}}}  > \\frac{\\sqrt{N}(\\mu_T - \\mu_0)}{\\sigma_0}\\right)\\\\\n",
    "&= 1 - \\mathbb{P}\\left(Z > \\frac{\\sqrt{N}(\\mu_T - \\mu_0)}{\\sigma_0}\\right)\\\\\n",
    "&= 1 - \\mathcal{Q}\\left(\\frac{\\sqrt{N}(\\mu_T - \\mu_0)}{\\sigma_0}\\right)\n",
    "\\end{align}\n",
    "\n",
    "Where $Z \\sim \\mathcal{N}(0, 1)$, and $\\mathcal{Q}(x) = \\mathbb{P}(Z > x)$ is the tail distribution function of the standard normal distribution.\n",
    "\n",
    "Hence we have our p-value :\n",
    "\n",
    "$$p-value = 1 - \\mathcal{Q}\\left(\\frac{\\sqrt{N}(\\mu_T - \\mu_0)}{\\sigma_0}\\right)$$\n",
    "\n",
    "We compute it for the years 2008 - 2014 :"
   ]
  },
  {
   "cell_type": "code",
   "execution_count": 4,
   "metadata": {},
   "outputs": [
    {
     "name": "stdout",
     "output_type": "stream",
     "text": [
      "p-values for hypothesis H0 over the years :\n"
     ]
    },
    {
     "data": {
      "text/html": [
       "<style  type=\"text/css\" >\n",
       "    #T_fc1abb4a_ffda_11e8_b148_548ca034d556row1_col0 {\n",
       "            background-color:  #a6d96a;\n",
       "        }    #T_fc1abb4a_ffda_11e8_b148_548ca034d556row1_col1 {\n",
       "            background-color:  #fdae61;\n",
       "        }    #T_fc1abb4a_ffda_11e8_b148_548ca034d556row1_col2 {\n",
       "            background-color:  #a6d96a;\n",
       "        }    #T_fc1abb4a_ffda_11e8_b148_548ca034d556row1_col3 {\n",
       "            background-color:  #a6d96a;\n",
       "        }    #T_fc1abb4a_ffda_11e8_b148_548ca034d556row1_col4 {\n",
       "            background-color:  #a6d96a;\n",
       "        }    #T_fc1abb4a_ffda_11e8_b148_548ca034d556row1_col5 {\n",
       "            background-color:  #a6d96a;\n",
       "        }    #T_fc1abb4a_ffda_11e8_b148_548ca034d556row1_col6 {\n",
       "            background-color:  #a6d96a;\n",
       "        }    #T_fc1abb4a_ffda_11e8_b148_548ca034d556row2_col0 {\n",
       "            background-color:  #fdae61;\n",
       "        }    #T_fc1abb4a_ffda_11e8_b148_548ca034d556row2_col1 {\n",
       "            background-color:  #fdae61;\n",
       "        }    #T_fc1abb4a_ffda_11e8_b148_548ca034d556row2_col2 {\n",
       "            background-color:  #a6d96a;\n",
       "        }    #T_fc1abb4a_ffda_11e8_b148_548ca034d556row2_col3 {\n",
       "            background-color:  #a6d96a;\n",
       "        }    #T_fc1abb4a_ffda_11e8_b148_548ca034d556row2_col4 {\n",
       "            background-color:  #a6d96a;\n",
       "        }    #T_fc1abb4a_ffda_11e8_b148_548ca034d556row2_col5 {\n",
       "            background-color:  #a6d96a;\n",
       "        }    #T_fc1abb4a_ffda_11e8_b148_548ca034d556row2_col6 {\n",
       "            background-color:  #a6d96a;\n",
       "        }    #T_fc1abb4a_ffda_11e8_b148_548ca034d556row3_col0 {\n",
       "            background-color:  #fdae61;\n",
       "        }    #T_fc1abb4a_ffda_11e8_b148_548ca034d556row3_col1 {\n",
       "            background-color:  #fdae61;\n",
       "        }    #T_fc1abb4a_ffda_11e8_b148_548ca034d556row3_col2 {\n",
       "            background-color:  #a6d96a;\n",
       "        }    #T_fc1abb4a_ffda_11e8_b148_548ca034d556row3_col3 {\n",
       "            background-color:  #a6d96a;\n",
       "        }    #T_fc1abb4a_ffda_11e8_b148_548ca034d556row3_col4 {\n",
       "            background-color:  #a6d96a;\n",
       "        }    #T_fc1abb4a_ffda_11e8_b148_548ca034d556row3_col5 {\n",
       "            background-color:  #a6d96a;\n",
       "        }    #T_fc1abb4a_ffda_11e8_b148_548ca034d556row3_col6 {\n",
       "            background-color:  #a6d96a;\n",
       "        }</style>  \n",
       "<table id=\"T_fc1abb4a_ffda_11e8_b148_548ca034d556\" > \n",
       "<thead>    <tr> \n",
       "        <th class=\"blank level0\" ></th> \n",
       "        <th class=\"col_heading level0 col0\" >2008</th> \n",
       "        <th class=\"col_heading level0 col1\" >2009</th> \n",
       "        <th class=\"col_heading level0 col2\" >2010</th> \n",
       "        <th class=\"col_heading level0 col3\" >2011</th> \n",
       "        <th class=\"col_heading level0 col4\" >2012</th> \n",
       "        <th class=\"col_heading level0 col5\" >2013</th> \n",
       "        <th class=\"col_heading level0 col6\" >2014</th> \n",
       "    </tr></thead> \n",
       "<tbody>    <tr> \n",
       "        <th id=\"T_fc1abb4a_ffda_11e8_b148_548ca034d556level0_row0\" class=\"row_heading level0 row0\" >p-value</th> \n",
       "        <td id=\"T_fc1abb4a_ffda_11e8_b148_548ca034d556row0_col0\" class=\"data row0 col0\" >0.0512</td> \n",
       "        <td id=\"T_fc1abb4a_ffda_11e8_b148_548ca034d556row0_col1\" class=\"data row0 col1\" >0.3012</td> \n",
       "        <td id=\"T_fc1abb4a_ffda_11e8_b148_548ca034d556row0_col2\" class=\"data row0 col2\" >3e-06</td> \n",
       "        <td id=\"T_fc1abb4a_ffda_11e8_b148_548ca034d556row0_col3\" class=\"data row0 col3\" >2.63e-13</td> \n",
       "        <td id=\"T_fc1abb4a_ffda_11e8_b148_548ca034d556row0_col4\" class=\"data row0 col4\" >2.01e-63</td> \n",
       "        <td id=\"T_fc1abb4a_ffda_11e8_b148_548ca034d556row0_col5\" class=\"data row0 col5\" >2.22e-193</td> \n",
       "        <td id=\"T_fc1abb4a_ffda_11e8_b148_548ca034d556row0_col6\" class=\"data row0 col6\" >4.73e-179</td> \n",
       "    </tr>    <tr> \n",
       "        <th id=\"T_fc1abb4a_ffda_11e8_b148_548ca034d556level0_row1\" class=\"row_heading level0 row1\" >0.1 confidence</th> \n",
       "        <td id=\"T_fc1abb4a_ffda_11e8_b148_548ca034d556row1_col0\" class=\"data row1 col0\" >✓</td> \n",
       "        <td id=\"T_fc1abb4a_ffda_11e8_b148_548ca034d556row1_col1\" class=\"data row1 col1\" >✗</td> \n",
       "        <td id=\"T_fc1abb4a_ffda_11e8_b148_548ca034d556row1_col2\" class=\"data row1 col2\" >✓</td> \n",
       "        <td id=\"T_fc1abb4a_ffda_11e8_b148_548ca034d556row1_col3\" class=\"data row1 col3\" >✓</td> \n",
       "        <td id=\"T_fc1abb4a_ffda_11e8_b148_548ca034d556row1_col4\" class=\"data row1 col4\" >✓</td> \n",
       "        <td id=\"T_fc1abb4a_ffda_11e8_b148_548ca034d556row1_col5\" class=\"data row1 col5\" >✓</td> \n",
       "        <td id=\"T_fc1abb4a_ffda_11e8_b148_548ca034d556row1_col6\" class=\"data row1 col6\" >✓</td> \n",
       "    </tr>    <tr> \n",
       "        <th id=\"T_fc1abb4a_ffda_11e8_b148_548ca034d556level0_row2\" class=\"row_heading level0 row2\" >0.01 confidence</th> \n",
       "        <td id=\"T_fc1abb4a_ffda_11e8_b148_548ca034d556row2_col0\" class=\"data row2 col0\" >✗</td> \n",
       "        <td id=\"T_fc1abb4a_ffda_11e8_b148_548ca034d556row2_col1\" class=\"data row2 col1\" >✗</td> \n",
       "        <td id=\"T_fc1abb4a_ffda_11e8_b148_548ca034d556row2_col2\" class=\"data row2 col2\" >✓</td> \n",
       "        <td id=\"T_fc1abb4a_ffda_11e8_b148_548ca034d556row2_col3\" class=\"data row2 col3\" >✓</td> \n",
       "        <td id=\"T_fc1abb4a_ffda_11e8_b148_548ca034d556row2_col4\" class=\"data row2 col4\" >✓</td> \n",
       "        <td id=\"T_fc1abb4a_ffda_11e8_b148_548ca034d556row2_col5\" class=\"data row2 col5\" >✓</td> \n",
       "        <td id=\"T_fc1abb4a_ffda_11e8_b148_548ca034d556row2_col6\" class=\"data row2 col6\" >✓</td> \n",
       "    </tr>    <tr> \n",
       "        <th id=\"T_fc1abb4a_ffda_11e8_b148_548ca034d556level0_row3\" class=\"row_heading level0 row3\" >0.001 confidence</th> \n",
       "        <td id=\"T_fc1abb4a_ffda_11e8_b148_548ca034d556row3_col0\" class=\"data row3 col0\" >✗</td> \n",
       "        <td id=\"T_fc1abb4a_ffda_11e8_b148_548ca034d556row3_col1\" class=\"data row3 col1\" >✗</td> \n",
       "        <td id=\"T_fc1abb4a_ffda_11e8_b148_548ca034d556row3_col2\" class=\"data row3 col2\" >✓</td> \n",
       "        <td id=\"T_fc1abb4a_ffda_11e8_b148_548ca034d556row3_col3\" class=\"data row3 col3\" >✓</td> \n",
       "        <td id=\"T_fc1abb4a_ffda_11e8_b148_548ca034d556row3_col4\" class=\"data row3 col4\" >✓</td> \n",
       "        <td id=\"T_fc1abb4a_ffda_11e8_b148_548ca034d556row3_col5\" class=\"data row3 col5\" >✓</td> \n",
       "        <td id=\"T_fc1abb4a_ffda_11e8_b148_548ca034d556row3_col6\" class=\"data row3 col6\" >✓</td> \n",
       "    </tr></tbody> \n",
       "</table> "
      ],
      "text/plain": [
       "<pandas.io.formats.style.Styler at 0x7f808fe37358>"
      ]
     },
     "execution_count": 4,
     "metadata": {},
     "output_type": "execute_result"
    }
   ],
   "source": [
    "import pandas as pd\n",
    "\n",
    "def highlighting(s):\n",
    "    if s == u'\\u2713':\n",
    "        return 'background-color: #a6d96a'\n",
    "    elif s == u'\\u2717':\n",
    "        return 'background-color: #fdae61'\n",
    "    return ''\n",
    "\n",
    "dict_ = {\n",
    "    \"2008\" : [0.0512, u'\\u2713', u'\\u2717', u'\\u2717'],\n",
    "    \"2009\" : [0.3012, u'\\u2717', u'\\u2717', u'\\u2717'],\n",
    "    \"2010\" : [3e-6, u'\\u2713', u'\\u2713', u'\\u2713'],\n",
    "    \"2011\" : [2.63e-13, u'\\u2713', u'\\u2713', u'\\u2713'],\n",
    "    \"2012\" : [2.01e-63, u'\\u2713', u'\\u2713', u'\\u2713'],\n",
    "    \"2013\" : [2.22e-193, u'\\u2713', u'\\u2713', u'\\u2713'],\n",
    "    \"2014\" : [4.73e-179, u'\\u2713', u'\\u2713', u'\\u2713']}\n",
    "\n",
    "rows_names = {0:\"p-value\", 1:\"0.1 confidence\", 2:\"0.01 confidence\", 3:\"0.001 confidence\"}\n",
    "\n",
    "print(\"p-values for hypothesis H0 over the years :\")\n",
    "df = pd.DataFrame(dict_)\n",
    "df = df.rename(index=rows_names)\n",
    "df.style.applymap(highlighting)"
   ]
  },
  {
   "cell_type": "markdown",
   "metadata": {},
   "source": [
    "__The p-value for the hypothesis $H_0$ is way less than 0.001 for all the years > 2009__. We even reach p-values that can be considered as null after 2012.\n",
    "\n",
    "We can still notice a special result in 2009 where the p-value is 0,3012. However, computing the the p-value the other way around (considering that the distribution of the sentiment of the technical aspects is the one we computed) also give us a high p-value of 0,3165."
   ]
  },
  {
   "cell_type": "markdown",
   "metadata": {},
   "source": [
    "#### 2.4.2 t-test\n",
    "\n",
    "Since the sizes of the two datasets are several orders of magnitude apart given the year, we decide to perform an additional t-test statistic in a time-invariant setting (all years confoud) and from which we sample the same amount of datapoints to make sure that the previous test is suitable. We choose 10k points since this value allows us to approximate the $t_{df,\\alpha}$ by the normal law distribution values. In addition, before sampling we remove the outliers i.e. values with TextBlob score equal to 0.\n",
    "\n",
    "We use the following formula to compute the t-value:\n",
    "\n",
    "$$t = \\frac{M_{non\\ tech}-M_{tech}}{\\sqrt{ \\frac{Var_{non\\ tech}}{n_{non\\ tech}} + \\frac{Var_{tech}}{n_{tech}} }}$$\n",
    "\n",
    "Where:\n",
    "\n",
    "- $M_{tech}$: the empirical mean for reviews including technical aspect\n",
    "- $M_{non\\ tech}$: the empirical mean for reviews not including technical aspect\n",
    "- $Var_{tech}$: the empircal variance for reviews including technical aspect\n",
    "- $Var_{non\\ tech}$: the empircal variance for reviews not including technical aspect\n",
    "- $n_{tech}$: the number of samples for reviews including technical aspect\n",
    "- $n_{non\\ tech}$: the number of samples for reviews not including technical aspect\n",
    "\n",
    "In our case the to last quantities are the same and equal to 10'000."
   ]
  },
  {
   "cell_type": "code",
   "execution_count": 605,
   "metadata": {},
   "outputs": [],
   "source": [
    "#Sampling after \n",
    "df_blob_pandas_sample = df_blob_pandas[df_blob_pandas._2 != 0].sample(n = 10000)\n",
    "df_blob_difference_pandas_sample = df_blob_difference_pandas[df_blob_difference_pandas._2 != 0].sample(n = 10000)"
   ]
  },
  {
   "cell_type": "code",
   "execution_count": 603,
   "metadata": {},
   "outputs": [],
   "source": [
    "m_tech = np.mean(df_blob_pandas_sample['_2'].values)\n",
    "m_non_tech = np.mean(df_blob_difference_pandas_sample['_2'].values)\n",
    "var_tech = np.var(df_blob_pandas_sample['_2'].values)\n",
    "var_non_tech = np.var(df_blob_difference_pandas_sample['_2'].values)\n",
    "n = 10000"
   ]
  },
  {
   "cell_type": "code",
   "execution_count": 604,
   "metadata": {},
   "outputs": [
    {
     "data": {
      "text/plain": [
       "9.000461138723196"
      ]
     },
     "execution_count": 604,
     "metadata": {},
     "output_type": "execute_result"
    }
   ],
   "source": [
    "t = (m_non_tech-m_tech)/np.sqrt((var_tech/n)+(var_non_tech/n))\n",
    "t"
   ]
  },
  {
   "cell_type": "markdown",
   "metadata": {},
   "source": [
    "We observe a large t-value which confidently confirms that there is a statistical difference in between the distributions."
   ]
  },
  {
   "cell_type": "markdown",
   "metadata": {},
   "source": [
    "Hence we conclude that we can safely __reject the null hypothesis__ and consequently that __the distribution of the sentiment for reviews about the technical aspect of the Kindle is not distributed the same way as the one for the reviews about the non-technical aspects__. Although this difference is tiny, it is noticeable and not due to randomness."
   ]
  },
  {
   "cell_type": "markdown",
   "metadata": {},
   "source": [
    "## Part 3 - Conclusion"
   ]
  },
  {
   "cell_type": "markdown",
   "metadata": {},
   "source": [
    "The Kindle is a highly advertised product by Amazon that releases often upgrades of the device and pushes it towards its customers by placing it on the frontpage of its store. It appeals to a lot of users who give it a try and its popularity is important given its several orders smaller catalog compared to classical physical books. However, frequent readers seem not to totally switch to this new form of reading, still prefering old school books. In addition, in the last years (of the available data) users seemed to make a strong come back to the classical way of reading abandoning the platform in favor of the physical offer. This can interpreted with the recent trend among younger generations who re-discover old supports and favorize them as in the case of books.\n",
    "\n",
    "_Ebook sales continue to fall as younger generations drive appetite for print_, the Guardian, Sian Cain,14.03.2017,  https://www.theguardian.com/books/2017/mar/14/ebook-sales-continue-to-fall-nielsen-survey-uk-book-sales"
   ]
  },
  {
   "cell_type": "code",
   "execution_count": null,
   "metadata": {},
   "outputs": [],
   "source": []
  }
 ],
 "metadata": {
  "kernelspec": {
   "display_name": "Python [conda env:anaconda3]",
   "language": "python",
   "name": "conda-env-anaconda3-py"
  },
  "language_info": {
   "codemirror_mode": {
    "name": "ipython",
    "version": 3
   },
   "file_extension": ".py",
   "mimetype": "text/x-python",
   "name": "python",
   "nbconvert_exporter": "python",
   "pygments_lexer": "ipython3",
   "version": "3.6.5"
  }
 },
 "nbformat": 4,
 "nbformat_minor": 2
}
